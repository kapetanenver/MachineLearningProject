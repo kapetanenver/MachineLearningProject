{
 "cells": [
  {
   "cell_type": "markdown",
   "metadata": {},
   "source": [
    "# Covid X-Ray Diagnosis\n",
    "## Machine Learning Final Project\n",
    "### Enver Kapetanovic & Adrien Ventugol \n",
    "### Group 15"
   ]
  },
  {
   "cell_type": "code",
   "execution_count": 1,
   "metadata": {},
   "outputs": [],
   "source": [
    "#import libraries \n",
    "from os import listdir\n",
    "from PIL import Image, ImageOps, ImageEnhance\n",
    "import matplotlib.pyplot as plt\n",
    "import pandas as pd \n",
    "import numpy as np\n",
    "import matplotlib.pyplot as plt\n",
    "import pandas as pd \n",
    "import numpy as np\n",
    "import sklearn\n",
    "import imblearn\n",
    "from sklearn.metrics import balanced_accuracy_score\n",
    "from sklearn.metrics import accuracy_score\n",
    "from sklearn.metrics import recall_score\n",
    "from sklearn.metrics import classification_report, confusion_matrix\n",
    "import sklearn.metrics as sk_mtrx"
   ]
  },
  {
   "cell_type": "markdown",
   "metadata": {},
   "source": [
    "## Data Preprocessing and set up"
   ]
  },
  {
   "cell_type": "code",
   "execution_count": 2,
   "metadata": {},
   "outputs": [],
   "source": [
    "#First import the paths of the pictures that we created with DataProcessor.ipynb\n",
    "paths,paths_org = None,None\n",
    "# Sort by covid result so we can compare the pixel distribution by test value\n",
    "paths = pd.read_csv(\"paths.csv\")"
   ]
  },
  {
   "cell_type": "code",
   "execution_count": 3,
   "metadata": {},
   "outputs": [
    {
     "data": {
      "text/html": [
       "<div>\n",
       "<style scoped>\n",
       "    .dataframe tbody tr th:only-of-type {\n",
       "        vertical-align: middle;\n",
       "    }\n",
       "\n",
       "    .dataframe tbody tr th {\n",
       "        vertical-align: top;\n",
       "    }\n",
       "\n",
       "    .dataframe thead th {\n",
       "        text-align: right;\n",
       "    }\n",
       "</style>\n",
       "<table border=\"1\" class=\"dataframe\">\n",
       "  <thead>\n",
       "    <tr style=\"text-align: right;\">\n",
       "      <th></th>\n",
       "      <th>image_path</th>\n",
       "      <th>Test</th>\n",
       "    </tr>\n",
       "  </thead>\n",
       "  <tbody>\n",
       "    <tr>\n",
       "      <th>0</th>\n",
       "      <td>data_upload_v2/test/covid/9fdd3c3032296fd04d2c...</td>\n",
       "      <td>1</td>\n",
       "    </tr>\n",
       "    <tr>\n",
       "      <th>1</th>\n",
       "      <td>data_upload_v2/test/covid/16669_3_1.jpeg</td>\n",
       "      <td>1</td>\n",
       "    </tr>\n",
       "    <tr>\n",
       "      <th>2</th>\n",
       "      <td>data_upload_v2/test/covid/16663_1_1.jpg</td>\n",
       "      <td>1</td>\n",
       "    </tr>\n",
       "    <tr>\n",
       "      <th>3</th>\n",
       "      <td>data_upload_v2/test/covid/covid-19-pneumonia-2...</td>\n",
       "      <td>1</td>\n",
       "    </tr>\n",
       "    <tr>\n",
       "      <th>4</th>\n",
       "      <td>data_upload_v2/test/covid/radiol.2020201160.fi...</td>\n",
       "      <td>1</td>\n",
       "    </tr>\n",
       "  </tbody>\n",
       "</table>\n",
       "</div>"
      ],
      "text/plain": [
       "                                          image_path  Test\n",
       "0  data_upload_v2/test/covid/9fdd3c3032296fd04d2c...     1\n",
       "1           data_upload_v2/test/covid/16669_3_1.jpeg     1\n",
       "2            data_upload_v2/test/covid/16663_1_1.jpg     1\n",
       "3  data_upload_v2/test/covid/covid-19-pneumonia-2...     1\n",
       "4  data_upload_v2/test/covid/radiol.2020201160.fi...     1"
      ]
     },
     "execution_count": 3,
     "metadata": {},
     "output_type": "execute_result"
    }
   ],
   "source": [
    "paths.head()"
   ]
  },
  {
   "cell_type": "code",
   "execution_count": 4,
   "metadata": {},
   "outputs": [],
   "source": [
    "#initiate the list we will use to first store the pixel data, then pass into the dataframe.\n",
    "pixel_data = []"
   ]
  },
  {
   "cell_type": "code",
   "execution_count": 32,
   "metadata": {},
   "outputs": [],
   "source": [
    "#define a processing function to obtain transformed pixel data from the paths of the images\n",
    "def to_pixel(row):\n",
    "    color_img = Image.open(row[\"image_path\"])\n",
    "    resized = color_img.resize((50, 50), Image.BICUBIC) #Bicubic/Nearest resample give the best results\n",
    "    sharpened = ImageEnhance.Sharpness(resized).enhance(1.5)\n",
    "    contrasted = ImageEnhance.Contrast(sharpened).enhance(1.1)\n",
    "    gray_img = ImageOps.grayscale(contrasted)\n",
    "    pixel_data.append(np.asarray(gray_img).flatten().tolist()) #convert image to numpy array, flatten it, convert to list\n",
    "    color_img.close()\n",
    "    # pixel data now has the complete data of another picture at pixel_data[-1]\n"
   ]
  },
  {
   "cell_type": "code",
   "execution_count": 12,
   "metadata": {},
   "outputs": [],
   "source": [
    "#code modified from https://gist.github.com/hitvoice/36cf44689065ca9b927431546381a3f7\n",
    "#Creates and saves Confusion Matricies as images to be used later\n",
    "import numpy as np\n",
    "import pandas as pd\n",
    "import matplotlib.pyplot as plt\n",
    "import seaborn as sns\n",
    "from sklearn.metrics import confusion_matrix\n",
    "\n",
    "def cm_analysis(y_true, y_pred, filename, labels, ymap=None, figsize=(10,10)):\n",
    "    \"\"\"\n",
    "    Generate matrix plot of confusion matrix with pretty annotations.\n",
    "    The plot image is saved to disk.\n",
    "    args: \n",
    "      y_true:    true label of the data, with shape (nsamples,)\n",
    "      y_pred:    prediction of the data, with shape (nsamples,)\n",
    "      filename:  filename of figure file to save\n",
    "      labels:    string array, name the order of class labels in the confusion matrix.\n",
    "                 use `clf.classes_` if using scikit-learn models.\n",
    "                 with shape (nclass,).\n",
    "      ymap:      dict: any -> string, length == nclass.\n",
    "                 if not None, map the labels & ys to more understandable strings.\n",
    "                 Caution: original y_true, y_pred and labels must align.\n",
    "      figsize:   the size of the figure plotted.\n",
    "    \"\"\"\n",
    "    if ymap is not None:\n",
    "        y_pred = [ymap[yi] for yi in y_pred]\n",
    "        y_true = [ymap[yi] for yi in y_true]\n",
    "        labels = [ymap[yi] for yi in labels]\n",
    "    cm = confusion_matrix(y_true, y_pred, labels=labels)\n",
    "    cm_sum = np.sum(cm, axis=1, keepdims=True)\n",
    "    cm_perc = cm / cm_sum.astype(float) * 100\n",
    "    annot = np.empty_like(cm).astype(str)\n",
    "    nrows, ncols = cm.shape\n",
    "    for i in range(nrows):\n",
    "        for j in range(ncols):\n",
    "            c = cm[i, j]\n",
    "            p = cm_perc[i, j]\n",
    "            if i == j:\n",
    "                s = cm_sum[i]\n",
    "                annot[i, j] = '%.1f%%\\n%d/%d' % (p, c, s)\n",
    "            elif c == 0:\n",
    "                annot[i, j] = '0% \\n0/0'\n",
    "            else:\n",
    "                annot[i, j] = '%.1f%%\\n%d' % (p, c)\n",
    "    cm = pd.DataFrame(cm, index=labels, columns=labels)\n",
    "    cm.index.name = 'Actual'\n",
    "    cm.columns.name = 'Predicted'\n",
    "    fig, ax = plt.subplots(figsize=figsize)\n",
    "    sns.heatmap(cm, annot=annot, fmt='', ax=ax, cmap=\"YlGnBu\",annot_kws={\"size\": 10},\n",
    " cbar=False)\n",
    "    plt.title('Confusion Matrix')\n",
    "    plt.savefig(filename)"
   ]
  },
  {
   "cell_type": "code",
   "execution_count": 6,
   "metadata": {},
   "outputs": [],
   "source": [
    "#apply use the functions as lambdas to apply to all the rows\n",
    "paths.apply(lambda row: to_pixel(row), axis = 1)\n",
    "\n",
    "#Separate Data into X and y\n",
    "y = paths.loc[0:,'Test']\n",
    "X = pd.DataFrame(data = pixel_data)"
   ]
  },
  {
   "cell_type": "code",
   "execution_count": 7,
   "metadata": {},
   "outputs": [
    {
     "data": {
      "text/html": [
       "<div>\n",
       "<style scoped>\n",
       "    .dataframe tbody tr th:only-of-type {\n",
       "        vertical-align: middle;\n",
       "    }\n",
       "\n",
       "    .dataframe tbody tr th {\n",
       "        vertical-align: top;\n",
       "    }\n",
       "\n",
       "    .dataframe thead th {\n",
       "        text-align: right;\n",
       "    }\n",
       "</style>\n",
       "<table border=\"1\" class=\"dataframe\">\n",
       "  <thead>\n",
       "    <tr style=\"text-align: right;\">\n",
       "      <th></th>\n",
       "      <th>image_path</th>\n",
       "      <th>Test</th>\n",
       "    </tr>\n",
       "  </thead>\n",
       "  <tbody>\n",
       "    <tr>\n",
       "      <th>100</th>\n",
       "      <td>data_upload_v2/test/non/Lung_Lesion/patient086...</td>\n",
       "      <td>0</td>\n",
       "    </tr>\n",
       "    <tr>\n",
       "      <th>101</th>\n",
       "      <td>data_upload_v2/test/non/Lung_Lesion/patient069...</td>\n",
       "      <td>0</td>\n",
       "    </tr>\n",
       "    <tr>\n",
       "      <th>102</th>\n",
       "      <td>data_upload_v2/test/non/Lung_Lesion/patient067...</td>\n",
       "      <td>0</td>\n",
       "    </tr>\n",
       "    <tr>\n",
       "      <th>103</th>\n",
       "      <td>data_upload_v2/test/non/Lung_Lesion/patient061...</td>\n",
       "      <td>0</td>\n",
       "    </tr>\n",
       "    <tr>\n",
       "      <th>104</th>\n",
       "      <td>data_upload_v2/test/non/Lung_Lesion/patient094...</td>\n",
       "      <td>0</td>\n",
       "    </tr>\n",
       "    <tr>\n",
       "      <th>...</th>\n",
       "      <td>...</td>\n",
       "      <td>...</td>\n",
       "    </tr>\n",
       "    <tr>\n",
       "      <th>3759</th>\n",
       "      <td>data_upload_v2/train/non/Pneumonia-patient1158...</td>\n",
       "      <td>0</td>\n",
       "    </tr>\n",
       "    <tr>\n",
       "      <th>3760</th>\n",
       "      <td>data_upload_v2/train/non/No Finding-patient161...</td>\n",
       "      <td>0</td>\n",
       "    </tr>\n",
       "    <tr>\n",
       "      <th>3761</th>\n",
       "      <td>data_upload_v2/train/non/Enlarged Cardiomedias...</td>\n",
       "      <td>0</td>\n",
       "    </tr>\n",
       "    <tr>\n",
       "      <th>3762</th>\n",
       "      <td>data_upload_v2/train/non/Atelectasis-patient56...</td>\n",
       "      <td>0</td>\n",
       "    </tr>\n",
       "    <tr>\n",
       "      <th>3763</th>\n",
       "      <td>data_upload_v2/train/non/Lung Lesion-patient22...</td>\n",
       "      <td>0</td>\n",
       "    </tr>\n",
       "  </tbody>\n",
       "</table>\n",
       "<p>3580 rows × 2 columns</p>\n",
       "</div>"
      ],
      "text/plain": [
       "                                             image_path  Test\n",
       "100   data_upload_v2/test/non/Lung_Lesion/patient086...     0\n",
       "101   data_upload_v2/test/non/Lung_Lesion/patient069...     0\n",
       "102   data_upload_v2/test/non/Lung_Lesion/patient067...     0\n",
       "103   data_upload_v2/test/non/Lung_Lesion/patient061...     0\n",
       "104   data_upload_v2/test/non/Lung_Lesion/patient094...     0\n",
       "...                                                 ...   ...\n",
       "3759  data_upload_v2/train/non/Pneumonia-patient1158...     0\n",
       "3760  data_upload_v2/train/non/No Finding-patient161...     0\n",
       "3761  data_upload_v2/train/non/Enlarged Cardiomedias...     0\n",
       "3762  data_upload_v2/train/non/Atelectasis-patient56...     0\n",
       "3763  data_upload_v2/train/non/Lung Lesion-patient22...     0\n",
       "\n",
       "[3580 rows x 2 columns]"
      ]
     },
     "execution_count": 7,
     "metadata": {},
     "output_type": "execute_result"
    }
   ],
   "source": [
    "#check y\n",
    "paths.loc[paths[\"Test\"] == 0]"
   ]
  },
  {
   "cell_type": "code",
   "execution_count": 8,
   "metadata": {},
   "outputs": [],
   "source": [
    "#Train test split with the mean normalized X\n",
    "X_train, X_test, y_train, y_test = sklearn.model_selection.train_test_split(X,y, train_size=.8, random_state=0)"
   ]
  },
  {
   "cell_type": "markdown",
   "metadata": {},
   "source": [
    "## Logistic Regression"
   ]
  },
  {
   "cell_type": "code",
   "execution_count": 9,
   "metadata": {},
   "outputs": [
    {
     "name": "stderr",
     "output_type": "stream",
     "text": [
      "/opt/anaconda3/lib/python3.7/site-packages/sklearn/linear_model/_logistic.py:764: ConvergenceWarning: lbfgs failed to converge (status=1):\n",
      "STOP: TOTAL NO. of ITERATIONS REACHED LIMIT.\n",
      "\n",
      "Increase the number of iterations (max_iter) or scale the data as shown in:\n",
      "    https://scikit-learn.org/stable/modules/preprocessing.html\n",
      "Please also refer to the documentation for alternative solver options:\n",
      "    https://scikit-learn.org/stable/modules/linear_model.html#logistic-regression\n",
      "  extra_warning_msg=_LOGISTIC_SOLVER_CONVERGENCE_MSG)\n"
     ]
    },
    {
     "data": {
      "text/plain": [
       "LogisticRegression()"
      ]
     },
     "execution_count": 9,
     "metadata": {},
     "output_type": "execute_result"
    }
   ],
   "source": [
    "#train the model\n",
    "from sklearn.linear_model import LogisticRegression\n",
    "lr = LogisticRegression()\n",
    "lr.fit(X_train, y_train)"
   ]
  },
  {
   "cell_type": "code",
   "execution_count": 10,
   "metadata": {},
   "outputs": [
    {
     "name": "stdout",
     "output_type": "stream",
     "text": [
      "test set:\n",
      "recall score:\t\t[0.97910864 0.8       ]\n",
      "balanced accuracy score: 0.8895543175487466\n",
      " confusion matrix:\n",
      "[[703  15]\n",
      " [  7  28]]\n",
      "f1 score: \t\t0.7179487179487181\n"
     ]
    }
   ],
   "source": [
    "y_score_test = lr.predict(X_test)\n",
    "#metrics we are interested in\n",
    "av_prec = sk_mtrx.average_precision_score(y_test, y_score_test)\n",
    "\n",
    "#for this model we are particularly interested in maximizing recall at the detriment of precision\n",
    "recall = sk_mtrx.recall_score(y_test, y_score_test, average = None)\n",
    "bal_acc = sk_mtrx.balanced_accuracy_score(y_test,y_score_test)\n",
    "conf = sk_mtrx.confusion_matrix(y_test, y_score_test)\n",
    "f1 = sk_mtrx.f1_score(y_test, y_score_test)\n",
    "\n",
    "\n",
    "print(\"test set:\")\n",
    "print((\"recall score:\\t\\t{0}\\nbalanced accuracy score: {1}\\n confusion matrix:\\n{2}\\n\"+\n",
    "\"f1 score: \\t\\t{3}\").format(recall, bal_acc, conf,f1))"
   ]
  },
  {
   "cell_type": "code",
   "execution_count": 15,
   "metadata": {},
   "outputs": [
    {
     "data": {
      "image/png": "[encoded data removed]",
      "text/plain": [
       "<Figure size 432x288 with 1 Axes>"
      ]
     },
     "metadata": {
      "needs_background": "light"
     },
     "output_type": "display_data"
    }
   ],
   "source": [
    "#generate confusion matrix\n",
    "y_pred = lr.predict(X_test)\n",
    "cm_analysis(y_test, y_pred, filename = 'con-matrix_LR', labels= lr.classes_, ymap=None, figsize=(6,4))"
   ]
  },
  {
   "cell_type": "code",
   "execution_count": 16,
   "metadata": {},
   "outputs": [
    {
     "name": "stdout",
     "output_type": "stream",
     "text": [
      "[[703  15]\n",
      " [  7  28]]\n",
      "              precision    recall  f1-score   support\n",
      "\n",
      "           0       0.99      0.98      0.98       718\n",
      "           1       0.65      0.80      0.72        35\n",
      "\n",
      "    accuracy                           0.97       753\n",
      "   macro avg       0.82      0.89      0.85       753\n",
      "weighted avg       0.97      0.97      0.97       753\n",
      "\n"
     ]
    }
   ],
   "source": [
    "#Alternative metrics \n",
    "print(confusion_matrix(y_test,y_pred))\n",
    "print(classification_report(y_test,y_pred))"
   ]
  },
  {
   "cell_type": "code",
   "execution_count": 18,
   "metadata": {},
   "outputs": [
    {
     "data": {
      "image/png": "[encoded data removed]",
      "text/plain": [
       "<Figure size 432x288 with 1 Axes>"
      ]
     },
     "metadata": {
      "needs_background": "light"
     },
     "output_type": "display_data"
    }
   ],
   "source": [
    "#Plotting ROC-AUC curve\n",
    "sk_mtrx.plot_roc_curve(lr, X_test, y_test)\n",
    "plt.grid()\n",
    "plt.title('Logistic Regression ROC-AUC Curve')\n",
    "plt.savefig('LogisticRegressionROC.jpg')"
   ]
  },
  {
   "cell_type": "code",
   "execution_count": 19,
   "metadata": {},
   "outputs": [
    {
     "data": {
      "text/plain": [
       "0.9707835325365206"
      ]
     },
     "execution_count": 19,
     "metadata": {},
     "output_type": "execute_result"
    }
   ],
   "source": [
    "#Precision score using our defined metric\n",
    "sk_mtrx.precision_score(y_test, y_pred, average = 'micro')"
   ]
  },
  {
   "cell_type": "markdown",
   "metadata": {},
   "source": [
    "## SVM"
   ]
  },
  {
   "cell_type": "code",
   "execution_count": 20,
   "metadata": {},
   "outputs": [
    {
     "data": {
      "image/png": "[encoded data removed]",
      "text/plain": [
       "<Figure size 432x288 with 1 Axes>"
      ]
     },
     "metadata": {
      "needs_background": "light"
     },
     "output_type": "display_data"
    }
   ],
   "source": [
    "#SVM works best with a balanced dataset\n",
    "#The graph below shows the frequency of both classes\n",
    "y_train.hist()\n",
    "plt.title('Train Data before Random Oversampling')\n",
    "plt.ylabel('Frequency') \n",
    "positions = (0, 1)\n",
    "labels = (\"Non-Covid\", \"Covid\")\n",
    "plt.xticks(positions, labels)\n",
    "plt.savefig('train_data_before.jpg')"
   ]
  },
  {
   "cell_type": "code",
   "execution_count": 21,
   "metadata": {},
   "outputs": [],
   "source": [
    "#It is evident we have an imbalanced data-set\n",
    "#Solve with Random Over Sampling Technique\n",
    "from imblearn.over_sampling import RandomOverSampler\n",
    "ros = RandomOverSampler(random_state = 3)\n",
    "X_train,y_train = ros.fit_resample(X_train,y_train)\n"
   ]
  },
  {
   "cell_type": "code",
   "execution_count": 22,
   "metadata": {},
   "outputs": [
    {
     "data": {
      "image/png": "[encoded data removed]",
      "text/plain": [
       "<Figure size 432x288 with 1 Axes>"
      ]
     },
     "metadata": {
      "needs_background": "light"
     },
     "output_type": "display_data"
    }
   ],
   "source": [
    "#Graph data frequency after random oversampling\n",
    "y_train.hist()\n",
    "plt.title('Train Data after Random Oversampling')\n",
    "plt.ylabel('Frequency') \n",
    "positions = (0, 1)\n",
    "labels = (\"Non-Covid\", \"Covid\")\n",
    "plt.xticks(positions, labels)\n",
    "plt.savefig('train_data_after.jpg')"
   ]
  },
  {
   "cell_type": "code",
   "execution_count": 23,
   "metadata": {},
   "outputs": [
    {
     "data": {
      "text/plain": [
       "SVC(kernel='linear')"
      ]
     },
     "execution_count": 23,
     "metadata": {},
     "output_type": "execute_result"
    }
   ],
   "source": [
    "#Training vanilla linear SVM \n",
    "from sklearn.svm import SVC\n",
    "svclassifier = SVC(kernel = 'linear')\n",
    "svclassifier.fit(X_train, y_train)"
   ]
  },
  {
   "cell_type": "code",
   "execution_count": 24,
   "metadata": {},
   "outputs": [
    {
     "name": "stdout",
     "output_type": "stream",
     "text": [
      "[[696  22]\n",
      " [  8  27]]\n",
      "              precision    recall  f1-score   support\n",
      "\n",
      "           0       0.99      0.97      0.98       718\n",
      "           1       0.55      0.77      0.64        35\n",
      "\n",
      "    accuracy                           0.96       753\n",
      "   macro avg       0.77      0.87      0.81       753\n",
      "weighted avg       0.97      0.96      0.96       753\n",
      "\n"
     ]
    }
   ],
   "source": [
    "#Testing\n",
    "y_pred = svclassifier.predict(X_test)\n",
    "print(confusion_matrix(y_test,y_pred))\n",
    "print(classification_report(y_test,y_pred))"
   ]
  },
  {
   "cell_type": "code",
   "execution_count": 25,
   "metadata": {},
   "outputs": [
    {
     "data": {
      "text/plain": [
       "Text(0.5, 1.0, 'Vanilla SVM ROC-AUC Curve')"
      ]
     },
     "execution_count": 25,
     "metadata": {},
     "output_type": "execute_result"
    },
    {
     "data": {
      "image/png": "[encoded data removed]",
      "text/plain": [
       "<Figure size 432x288 with 1 Axes>"
      ]
     },
     "metadata": {
      "needs_background": "light"
     },
     "output_type": "display_data"
    }
   ],
   "source": [
    "#Plotting ROC-AUC curve\n",
    "sk_mtrx.plot_roc_curve(svclassifier, X_test, y_test)\n",
    "plt.grid()\n",
    "plt.title('Vanilla SVM ROC-AUC Curve')"
   ]
  },
  {
   "cell_type": "code",
   "execution_count": 27,
   "metadata": {},
   "outputs": [
    {
     "data": {
      "text/plain": [
       "SVC(kernel='poly')"
      ]
     },
     "execution_count": 27,
     "metadata": {},
     "output_type": "execute_result"
    }
   ],
   "source": [
    "#Training Poly kernel SVM \n",
    "from sklearn.svm import SVC\n",
    "svclassifier2 = SVC(kernel = 'poly', degree =3)\n",
    "svclassifier2.fit(X_train, y_train)"
   ]
  },
  {
   "cell_type": "code",
   "execution_count": 28,
   "metadata": {},
   "outputs": [
    {
     "name": "stdout",
     "output_type": "stream",
     "text": [
      "[[715   3]\n",
      " [  3  32]]\n",
      "              precision    recall  f1-score   support\n",
      "\n",
      "           0       1.00      1.00      1.00       718\n",
      "           1       0.91      0.91      0.91        35\n",
      "\n",
      "    accuracy                           0.99       753\n",
      "   macro avg       0.96      0.96      0.96       753\n",
      "weighted avg       0.99      0.99      0.99       753\n",
      "\n"
     ]
    }
   ],
   "source": [
    "#Test\n",
    "y_pred = svclassifier2.predict(X_test)\n",
    "print(confusion_matrix(y_test, y_pred))\n",
    "print(classification_report(y_test, y_pred))"
   ]
  },
  {
   "cell_type": "code",
   "execution_count": 29,
   "metadata": {},
   "outputs": [
    {
     "data": {
      "text/plain": [
       "Text(0.5, 1.0, 'SVM with Polynomial kernel ROC-AUC Curve')"
      ]
     },
     "execution_count": 29,
     "metadata": {},
     "output_type": "execute_result"
    },
    {
     "data": {
      "image/png": "[encoded data removed]",
      "text/plain": [
       "<Figure size 432x288 with 1 Axes>"
      ]
     },
     "metadata": {
      "needs_background": "light"
     },
     "output_type": "display_data"
    }
   ],
   "source": [
    "#Plotting AUC-ROC curve\n",
    "sk_mtrx.plot_roc_curve(svclassifier2, X_test, y_test)\n",
    "plt.grid()\n",
    "plt.title('SVM with Polynomial kernel ROC-AUC Curve')"
   ]
  },
  {
   "cell_type": "code",
   "execution_count": 30,
   "metadata": {},
   "outputs": [
    {
     "data": {
      "text/plain": [
       "SVC()"
      ]
     },
     "execution_count": 30,
     "metadata": {},
     "output_type": "execute_result"
    }
   ],
   "source": [
    "#using RBF kernel\n",
    "from sklearn.svm import SVC\n",
    "svclassifier3 = SVC(kernel='rbf')\n",
    "svclassifier3.fit(X_train, y_train)"
   ]
  },
  {
   "cell_type": "code",
   "execution_count": 31,
   "metadata": {},
   "outputs": [
    {
     "name": "stdout",
     "output_type": "stream",
     "text": [
      "[[718   0]\n",
      " [  2  33]]\n",
      "              precision    recall  f1-score   support\n",
      "\n",
      "           0       1.00      1.00      1.00       718\n",
      "           1       1.00      0.94      0.97        35\n",
      "\n",
      "    accuracy                           1.00       753\n",
      "   macro avg       1.00      0.97      0.98       753\n",
      "weighted avg       1.00      1.00      1.00       753\n",
      "\n"
     ]
    }
   ],
   "source": [
    "y_pred = svclassifier3.predict(X_test)\n",
    "print(confusion_matrix(y_test, y_pred))\n",
    "print(classification_report(y_test, y_pred))"
   ]
  },
  {
   "cell_type": "code",
   "execution_count": 235,
   "metadata": {},
   "outputs": [
    {
     "data": {
      "text/plain": [
       "Text(0.5, 1.0, 'SVM with RBF kernel ROC-AUC Curve')"
      ]
     },
     "execution_count": 235,
     "metadata": {},
     "output_type": "execute_result"
    },
    {
     "data": {
      "image/png": "[encoded data removed]",
      "text/plain": [
       "<Figure size 432x288 with 1 Axes>"
      ]
     },
     "metadata": {
      "needs_background": "light"
     },
     "output_type": "display_data"
    }
   ],
   "source": [
    "#Plotting\n",
    "sk_mtrx.plot_roc_curve(svclassifier3, X_test, y_test)\n",
    "plt.grid()\n",
    "plt.title('SVM with RBF kernel ROC-AUC Curve')\n"
   ]
  },
  {
   "cell_type": "code",
   "execution_count": 236,
   "metadata": {},
   "outputs": [
    {
     "name": "stdout",
     "output_type": "stream",
     "text": [
      "test set:\n",
      "recall score:\t\t[1.         0.94285714]\n",
      "balanced accuracy score: 0.9714285714285714\n",
      " confusion matrix:\n",
      "[[718   0]\n",
      " [  2  33]]\n",
      "f1 score: \t\t0.9705882352941176\n"
     ]
    }
   ],
   "source": [
    "y_score_test = svclassifier3.predict(X_test)\n",
    "#metrics we are interested in\n",
    "av_prec = sk_mtrx.average_precision_score(y_test, y_score_test)\n",
    "\n",
    "#for this model we are particularly interested in maximizing recall at the detriment of precision\n",
    "recall = sk_mtrx.recall_score(y_test, y_score_test, average = None)\n",
    "bal_acc = sk_mtrx.balanced_accuracy_score(y_test,y_score_test)\n",
    "conf = sk_mtrx.confusion_matrix(y_test, y_score_test)\n",
    "f1 = sk_mtrx.f1_score(y_test, y_score_test)\n",
    "\n",
    "\n",
    "print(\"test set:\")\n",
    "print((\"recall score:\\t\\t{0}\\nbalanced accuracy score: {1}\\n confusion matrix:\\n{2}\\n\"+\n",
    "\"f1 score: \\t\\t{3}\").format(recall, bal_acc, conf,f1))\n"
   ]
  },
  {
   "cell_type": "code",
   "execution_count": 64,
   "metadata": {},
   "outputs": [
    {
     "data": {
      "text/plain": [
       "1.0"
      ]
     },
     "execution_count": 64,
     "metadata": {},
     "output_type": "execute_result"
    }
   ],
   "source": [
    "sk_mtrx.precision_score(y_test, y_pred)"
   ]
  },
  {
   "cell_type": "code",
   "execution_count": 240,
   "metadata": {},
   "outputs": [
    {
     "data": {
      "image/png": "[encoded data removed]",
      "text/plain": [
       "<Figure size 432x288 with 1 Axes>"
      ]
     },
     "metadata": {
      "needs_background": "light"
     },
     "output_type": "display_data"
    }
   ],
   "source": [
    "#Rendering Confusion Matrix image\n",
    "cm_analysis(y_test, y_pred, filename = 'con-matrix', labels= svclassifier3.classes_, ymap=None, figsize=(6,4))"
   ]
  },
  {
   "cell_type": "code",
   "execution_count": 237,
   "metadata": {},
   "outputs": [
    {
     "data": {
      "text/plain": [
       "SVC(kernel='sigmoid')"
      ]
     },
     "execution_count": 237,
     "metadata": {},
     "output_type": "execute_result"
    }
   ],
   "source": [
    "#using Sigmoid kernel\n",
    "svclassifier4 = SVC(kernel='sigmoid')\n",
    "svclassifier4.fit(X_train, y_train)"
   ]
  },
  {
   "cell_type": "code",
   "execution_count": 238,
   "metadata": {},
   "outputs": [
    {
     "name": "stdout",
     "output_type": "stream",
     "text": [
      "[[695  23]\n",
      " [  9  26]]\n",
      "              precision    recall  f1-score   support\n",
      "\n",
      "           0       0.99      0.97      0.98       718\n",
      "           1       0.53      0.74      0.62        35\n",
      "\n",
      "    accuracy                           0.96       753\n",
      "   macro avg       0.76      0.86      0.80       753\n",
      "weighted avg       0.97      0.96      0.96       753\n",
      "\n"
     ]
    }
   ],
   "source": [
    "#testing\n",
    "y_pred = svclassifier.predict(X_test)\n",
    "print(confusion_matrix(y_test, y_pred))\n",
    "print(classification_report(y_test, y_pred))"
   ]
  },
  {
   "cell_type": "code",
   "execution_count": 239,
   "metadata": {},
   "outputs": [
    {
     "data": {
      "text/plain": [
       "Text(0.5, 1.0, 'SVM with sigmoil kernel ROC-AUC Curve')"
      ]
     },
     "execution_count": 239,
     "metadata": {},
     "output_type": "execute_result"
    },
    {
     "data": {
      "image/png": "[encoded data removed]",
      "text/plain": [
       "<Figure size 432x288 with 1 Axes>"
      ]
     },
     "metadata": {
      "needs_background": "light"
     },
     "output_type": "display_data"
    }
   ],
   "source": [
    "#plotting curve\n",
    "sk_mtrx.plot_roc_curve(svclassifier4, X_test, y_test)\n",
    "plt.grid()\n",
    "plt.title('SVM with sigmoil kernel ROC-AUC Curve')\n"
   ]
  },
  {
   "cell_type": "markdown",
   "metadata": {},
   "source": [
    "It is evident that the RBF kernel provides the best model, as it has the best scores all round."
   ]
  },
  {
   "cell_type": "code",
   "execution_count": null,
   "metadata": {},
   "outputs": [],
   "source": []
  },
  {
   "cell_type": "markdown",
   "metadata": {},
   "source": [
    "## Let's try our model on pictures!\n",
    "### Feel free to load your own pictures on the last line"
   ]
  },
  {
   "cell_type": "code",
   "execution_count": 242,
   "metadata": {},
   "outputs": [],
   "source": [
    "cov = \"Demo\\\\covid-demo.jpg\"\n",
    "non = \"Demo\\\\normal-demo.jpg\""
   ]
  },
  {
   "cell_type": "code",
   "execution_count": 243,
   "metadata": {},
   "outputs": [],
   "source": [
    "def test_model(path, model):\n",
    "    pic = Image.open(path)\n",
    "    pic.show()\n",
    "    resized = pic.resize((50, 50), Image.BICUBIC)\n",
    "    sharpened = ImageEnhance.Sharpness(resized).enhance(1.5)\n",
    "    contrasted = ImageEnhance.Contrast(sharpened).enhance(1.1)\n",
    "    gray_img = ImageOps.grayscale(contrasted)\n",
    "    covid_pixels = np.asarray(gray_img).flatten()\n",
    "    pic.close()\n",
    "    covid_pixels = pd.DataFrame(data = covid_pixels).transpose()\n",
    "    covid_pixels = std_scaler.transform(covid_pixels)\n",
    "    if model.predict(covid_pixels)[0] == 1:\n",
    "        print(\"The patient has covid.\")\n",
    "    else:\n",
    "        print(\"The patient does not have covid.\")"
   ]
  },
  {
   "cell_type": "code",
   "execution_count": 244,
   "metadata": {},
   "outputs": [
    {
     "ename": "FileNotFoundError",
     "evalue": "[Errno 2] No such file or directory: 'Demo\\\\covid-demo.jpg'",
     "output_type": "error",
     "traceback": [
      "\u001b[0;31m---------------------------------------------------------------------------\u001b[0m",
      "\u001b[0;31mFileNotFoundError\u001b[0m                         Traceback (most recent call last)",
      "\u001b[0;32m<ipython-input-244-8559ef141766>\u001b[0m in \u001b[0;36m<module>\u001b[0;34m\u001b[0m\n\u001b[1;32m      6\u001b[0m \u001b[0;31m#for SVM with sigmoid kernal, model = 'svclassifier4'\u001b[0m\u001b[0;34m\u001b[0m\u001b[0;34m\u001b[0m\u001b[0;34m\u001b[0m\u001b[0m\n\u001b[1;32m      7\u001b[0m \u001b[0;32mfor\u001b[0m \u001b[0mpic\u001b[0m \u001b[0;32min\u001b[0m \u001b[0;34m[\u001b[0m\u001b[0mcov\u001b[0m\u001b[0;34m,\u001b[0m\u001b[0mnon\u001b[0m\u001b[0;34m]\u001b[0m\u001b[0;34m:\u001b[0m\u001b[0;34m\u001b[0m\u001b[0;34m\u001b[0m\u001b[0m\n\u001b[0;32m----> 8\u001b[0;31m     \u001b[0mtest_model\u001b[0m\u001b[0;34m(\u001b[0m\u001b[0mpic\u001b[0m\u001b[0;34m,\u001b[0m \u001b[0mmodel\u001b[0m \u001b[0;34m=\u001b[0m \u001b[0;34m'lr'\u001b[0m\u001b[0;34m)\u001b[0m\u001b[0;34m\u001b[0m\u001b[0;34m\u001b[0m\u001b[0m\n\u001b[0m",
      "\u001b[0;32m<ipython-input-243-7f0fcbcbdc42>\u001b[0m in \u001b[0;36mtest_model\u001b[0;34m(path, model)\u001b[0m\n\u001b[1;32m      1\u001b[0m \u001b[0;32mdef\u001b[0m \u001b[0mtest_model\u001b[0m\u001b[0;34m(\u001b[0m\u001b[0mpath\u001b[0m\u001b[0;34m,\u001b[0m \u001b[0mmodel\u001b[0m\u001b[0;34m)\u001b[0m\u001b[0;34m:\u001b[0m\u001b[0;34m\u001b[0m\u001b[0;34m\u001b[0m\u001b[0m\n\u001b[0;32m----> 2\u001b[0;31m     \u001b[0mpic\u001b[0m \u001b[0;34m=\u001b[0m \u001b[0mImage\u001b[0m\u001b[0;34m.\u001b[0m\u001b[0mopen\u001b[0m\u001b[0;34m(\u001b[0m\u001b[0mpath\u001b[0m\u001b[0;34m)\u001b[0m\u001b[0;34m\u001b[0m\u001b[0;34m\u001b[0m\u001b[0m\n\u001b[0m\u001b[1;32m      3\u001b[0m     \u001b[0mpic\u001b[0m\u001b[0;34m.\u001b[0m\u001b[0mshow\u001b[0m\u001b[0;34m(\u001b[0m\u001b[0;34m)\u001b[0m\u001b[0;34m\u001b[0m\u001b[0;34m\u001b[0m\u001b[0m\n\u001b[1;32m      4\u001b[0m     \u001b[0mresized\u001b[0m \u001b[0;34m=\u001b[0m \u001b[0mpic\u001b[0m\u001b[0;34m.\u001b[0m\u001b[0mresize\u001b[0m\u001b[0;34m(\u001b[0m\u001b[0;34m(\u001b[0m\u001b[0;36m50\u001b[0m\u001b[0;34m,\u001b[0m \u001b[0;36m50\u001b[0m\u001b[0;34m)\u001b[0m\u001b[0;34m,\u001b[0m \u001b[0mImage\u001b[0m\u001b[0;34m.\u001b[0m\u001b[0mBICUBIC\u001b[0m\u001b[0;34m)\u001b[0m\u001b[0;34m\u001b[0m\u001b[0;34m\u001b[0m\u001b[0m\n\u001b[1;32m      5\u001b[0m     \u001b[0msharpened\u001b[0m \u001b[0;34m=\u001b[0m \u001b[0mImageEnhance\u001b[0m\u001b[0;34m.\u001b[0m\u001b[0mSharpness\u001b[0m\u001b[0;34m(\u001b[0m\u001b[0mresized\u001b[0m\u001b[0;34m)\u001b[0m\u001b[0;34m.\u001b[0m\u001b[0menhance\u001b[0m\u001b[0;34m(\u001b[0m\u001b[0;36m1.5\u001b[0m\u001b[0;34m)\u001b[0m\u001b[0;34m\u001b[0m\u001b[0;34m\u001b[0m\u001b[0m\n",
      "\u001b[0;32m/opt/anaconda3/lib/python3.7/site-packages/PIL/Image.py\u001b[0m in \u001b[0;36mopen\u001b[0;34m(fp, mode)\u001b[0m\n\u001b[1;32m   2807\u001b[0m \u001b[0;34m\u001b[0m\u001b[0m\n\u001b[1;32m   2808\u001b[0m     \u001b[0;32mif\u001b[0m \u001b[0mfilename\u001b[0m\u001b[0;34m:\u001b[0m\u001b[0;34m\u001b[0m\u001b[0;34m\u001b[0m\u001b[0m\n\u001b[0;32m-> 2809\u001b[0;31m         \u001b[0mfp\u001b[0m \u001b[0;34m=\u001b[0m \u001b[0mbuiltins\u001b[0m\u001b[0;34m.\u001b[0m\u001b[0mopen\u001b[0m\u001b[0;34m(\u001b[0m\u001b[0mfilename\u001b[0m\u001b[0;34m,\u001b[0m \u001b[0;34m\"rb\"\u001b[0m\u001b[0;34m)\u001b[0m\u001b[0;34m\u001b[0m\u001b[0;34m\u001b[0m\u001b[0m\n\u001b[0m\u001b[1;32m   2810\u001b[0m         \u001b[0mexclusive_fp\u001b[0m \u001b[0;34m=\u001b[0m \u001b[0;32mTrue\u001b[0m\u001b[0;34m\u001b[0m\u001b[0;34m\u001b[0m\u001b[0m\n\u001b[1;32m   2811\u001b[0m \u001b[0;34m\u001b[0m\u001b[0m\n",
      "\u001b[0;31mFileNotFoundError\u001b[0m: [Errno 2] No such file or directory: 'Demo\\\\covid-demo.jpg'"
     ]
    }
   ],
   "source": [
    "#choose model\n",
    "#for logistic regression model ='lr'\n",
    "#for vanilla SMV, model = 'svclassifier'\n",
    "#for SVM with poly kernal, model = 'svclassifier2'\n",
    "#for SVM with RBF kernal, model = 'svclassifier3'\n",
    "#for SVM with sigmoid kernal, model = 'svclassifier4'\n",
    "for pic in [cov,non]:\n",
    "    test_model(pic, model = 'lr')"
   ]
  },
  {
   "cell_type": "code",
   "execution_count": null,
   "metadata": {},
   "outputs": [],
   "source": [
    "#Your turn!\n",
    "#test_model(...)"
   ]
  },
  {
   "cell_type": "code",
   "execution_count": null,
   "metadata": {},
   "outputs": [],
   "source": []
  }
 ],
 "metadata": {
  "kernelspec": {
   "display_name": "Python 3",
   "language": "python",
   "name": "python3"
  },
  "language_info": {
   "codemirror_mode": {
    "name": "ipython",
    "version": 3
   },
   "file_extension": ".py",
   "mimetype": "text/x-python",
   "name": "python",
   "nbconvert_exporter": "python",
   "pygments_lexer": "ipython3",
   "version": "3.7.6"
  }
 },
 "nbformat": 4,
 "nbformat_minor": 4
}
