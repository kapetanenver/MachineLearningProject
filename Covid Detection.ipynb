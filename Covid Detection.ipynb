{
 "cells": [
  {
   "cell_type": "markdown",
   "metadata": {},
   "source": [
    "# Covid X-Ray Diagnosis\n",
    "## Machine Learning Final Project\n",
    "### Enver Kapetanovic & Adrien Ventugol \n",
    "### Group 15"
   ]
  },
  {
   "cell_type": "code",
   "execution_count": 1,
   "metadata": {},
   "outputs": [],
   "source": [
    "#load libraries\n",
    "from PIL import Image, ImageOps, ImageEnhance\n",
    "import matplotlib.pyplot as plt\n",
    "import pandas as pd \n",
    "import numpy as np\n",
    "import matplotlib.pyplot as plt\n",
    "import pandas as pd \n",
    "import numpy as np\n",
    "import sklearn\n",
    "import imblearn"
   ]
  },
  {
   "cell_type": "markdown",
   "metadata": {},
   "source": [
    "## Data Preprocessing "
   ]
  },
  {
   "cell_type": "code",
   "execution_count": 2,
   "metadata": {},
   "outputs": [],
   "source": [
    "#First import the paths of the pictures that we created with DataProcessor.ipynb\n",
    "paths,paths_org = None,None\n",
    "# Sort by covid result so we can compare the pixel distribution by test value\n",
    "paths = pd.read_csv(\"paths.csv\").sort_values(by = \"Test\", ascending = False).reset_index(drop = True)"
   ]
  },
  {
   "cell_type": "code",
   "execution_count": 3,
   "metadata": {},
   "outputs": [],
   "source": [
    "#initiate the list we will use to first store the pixel data, then pass into the dataframe.\n",
    "pixel_data = []"
   ]
  },
  {
   "cell_type": "code",
   "execution_count": 4,
   "metadata": {},
   "outputs": [],
   "source": [
    "#define a processing function to obtain transformed pixel data from the paths of the images\n",
    "def to_pixel(row):\n",
    "    color_img = Image.open(row[\"image_path\"])\n",
    "    resized = color_img.resize((50, 50), Image.BICUBIC) #Bicubic/Nearest resample give the best results\n",
    "    sharpened = ImageEnhance.Sharpness(resized).enhance(1.5)\n",
    "    contrasted = ImageEnhance.Contrast(sharpened).enhance(1.1)\n",
    "    gray_img = ImageOps.grayscale(contrasted)\n",
    "    pixel_data.append(np.asarray(gray_img).flatten().tolist()) #convert image to numpy array, flatten it, convert to list\n",
    "    color_img.close()\n",
    "    # pixel data now has the complete data of another picture at pixel_data[-1]"
   ]
  },
  {
   "cell_type": "code",
   "execution_count": 5,
   "metadata": {},
   "outputs": [],
   "source": [
    "#apply use the functions as lambdas to apply to all the rows\n",
    "paths.apply(lambda row: to_pixel(row), axis = 1)\n",
    "\n",
    "#Separate Data into X and y\n",
    "y = paths.loc[0:,'Test']\n",
    "X = pd.DataFrame(data = pixel_data)"
   ]
  },
  {
   "cell_type": "code",
   "execution_count": 6,
   "metadata": {},
   "outputs": [
    {
     "data": {
      "text/html": [
       "<div>\n",
       "<style scoped>\n",
       "    .dataframe tbody tr th:only-of-type {\n",
       "        vertical-align: middle;\n",
       "    }\n",
       "\n",
       "    .dataframe tbody tr th {\n",
       "        vertical-align: top;\n",
       "    }\n",
       "\n",
       "    .dataframe thead th {\n",
       "        text-align: right;\n",
       "    }\n",
       "</style>\n",
       "<table border=\"1\" class=\"dataframe\">\n",
       "  <thead>\n",
       "    <tr style=\"text-align: right;\">\n",
       "      <th></th>\n",
       "      <th>image_path</th>\n",
       "      <th>Test</th>\n",
       "    </tr>\n",
       "  </thead>\n",
       "  <tbody>\n",
       "    <tr>\n",
       "      <th>184</th>\n",
       "      <td>data_upload_v2/test/non/Lung_Opacity/patient00...</td>\n",
       "      <td>0</td>\n",
       "    </tr>\n",
       "    <tr>\n",
       "      <th>185</th>\n",
       "      <td>data_upload_v2/test/non/Lung_Opacity/patient00...</td>\n",
       "      <td>0</td>\n",
       "    </tr>\n",
       "    <tr>\n",
       "      <th>186</th>\n",
       "      <td>data_upload_v2/test/non/Lung_Opacity/patient00...</td>\n",
       "      <td>0</td>\n",
       "    </tr>\n",
       "    <tr>\n",
       "      <th>187</th>\n",
       "      <td>data_upload_v2/test/non/Lung_Opacity/patient00...</td>\n",
       "      <td>0</td>\n",
       "    </tr>\n",
       "    <tr>\n",
       "      <th>188</th>\n",
       "      <td>data_upload_v2/test/non/Lung_Opacity/patient00...</td>\n",
       "      <td>0</td>\n",
       "    </tr>\n",
       "    <tr>\n",
       "      <th>...</th>\n",
       "      <td>...</td>\n",
       "      <td>...</td>\n",
       "    </tr>\n",
       "    <tr>\n",
       "      <th>3759</th>\n",
       "      <td>data_upload_v2/test/non/No_Finding/patient0901...</td>\n",
       "      <td>0</td>\n",
       "    </tr>\n",
       "    <tr>\n",
       "      <th>3760</th>\n",
       "      <td>data_upload_v2/test/non/No_Finding/patient0615...</td>\n",
       "      <td>0</td>\n",
       "    </tr>\n",
       "    <tr>\n",
       "      <th>3761</th>\n",
       "      <td>data_upload_v2/test/non/No_Finding/patient0773...</td>\n",
       "      <td>0</td>\n",
       "    </tr>\n",
       "    <tr>\n",
       "      <th>3762</th>\n",
       "      <td>data_upload_v2/test/non/No_Finding/patient0222...</td>\n",
       "      <td>0</td>\n",
       "    </tr>\n",
       "    <tr>\n",
       "      <th>3763</th>\n",
       "      <td>data_upload_v2/train/non/Lung Lesion-patient22...</td>\n",
       "      <td>0</td>\n",
       "    </tr>\n",
       "  </tbody>\n",
       "</table>\n",
       "<p>3580 rows × 2 columns</p>\n",
       "</div>"
      ],
      "text/plain": [
       "                                             image_path  Test\n",
       "184   data_upload_v2/test/non/Lung_Opacity/patient00...     0\n",
       "185   data_upload_v2/test/non/Lung_Opacity/patient00...     0\n",
       "186   data_upload_v2/test/non/Lung_Opacity/patient00...     0\n",
       "187   data_upload_v2/test/non/Lung_Opacity/patient00...     0\n",
       "188   data_upload_v2/test/non/Lung_Opacity/patient00...     0\n",
       "...                                                 ...   ...\n",
       "3759  data_upload_v2/test/non/No_Finding/patient0901...     0\n",
       "3760  data_upload_v2/test/non/No_Finding/patient0615...     0\n",
       "3761  data_upload_v2/test/non/No_Finding/patient0773...     0\n",
       "3762  data_upload_v2/test/non/No_Finding/patient0222...     0\n",
       "3763  data_upload_v2/train/non/Lung Lesion-patient22...     0\n",
       "\n",
       "[3580 rows x 2 columns]"
      ]
     },
     "execution_count": 6,
     "metadata": {},
     "output_type": "execute_result"
    }
   ],
   "source": [
    "#check y\n",
    "paths.loc[paths[\"Test\"] == 0]"
   ]
  },
  {
   "cell_type": "code",
   "execution_count": 7,
   "metadata": {},
   "outputs": [
    {
     "data": {
      "text/plain": [
       "<matplotlib.axes._subplots.AxesSubplot at 0x1a20564fd0>"
      ]
     },
     "execution_count": 7,
     "metadata": {},
     "output_type": "execute_result"
    },
    {
     "data": {
      "image/png": "[encoded data removed]",
      "text/plain": [
       "<Figure size 432x288 with 1 Axes>"
      ]
     },
     "metadata": {
      "needs_background": "light"
     },
     "output_type": "display_data"
    }
   ],
   "source": [
    "# rows 184 to 3763 contain the non-covid samples\n",
    "#Let's check the difference in pixel distribution after processing\n",
    "X.loc[184:3763, :].mean().transpose().hist(bins = 50)"
   ]
  },
  {
   "cell_type": "code",
   "execution_count": 8,
   "metadata": {},
   "outputs": [
    {
     "data": {
      "text/plain": [
       "<matplotlib.axes._subplots.AxesSubplot at 0x1a208c4610>"
      ]
     },
     "execution_count": 8,
     "metadata": {},
     "output_type": "execute_result"
    },
    {
     "data": {
      "image/png": "[encoded data removed]",
      "text/plain": [
       "<Figure size 432x288 with 1 Axes>"
      ]
     },
     "metadata": {
      "needs_background": "light"
     },
     "output_type": "display_data"
    }
   ],
   "source": [
    "X.loc[0:183, :].mean().transpose().hist(bins = 50)"
   ]
  },
  {
   "cell_type": "code",
   "execution_count": 9,
   "metadata": {},
   "outputs": [
    {
     "data": {
      "text/plain": [
       "<matplotlib.axes._subplots.AxesSubplot at 0x1a216d11d0>"
      ]
     },
     "execution_count": 9,
     "metadata": {},
     "output_type": "execute_result"
    },
    {
     "data": {
      "image/png": "[encoded data removed]",
      "text/plain": [
       "<Figure size 432x288 with 1 Axes>"
      ]
     },
     "metadata": {
      "needs_background": "light"
     },
     "output_type": "display_data"
    }
   ],
   "source": [
    "X.loc[184:3763, :].mean().transpose().hist(bins = 50)\n",
    "X.loc[0:183, :].mean().transpose().hist(bins = 50)"
   ]
  },
  {
   "cell_type": "code",
   "execution_count": 10,
   "metadata": {},
   "outputs": [],
   "source": [
    "#Most of the difference is situated in the number of pixels from ~~20 to ~~100 and ~~220 to ~~250\n",
    "#Train/test split\n",
    "X_train, X_test, y_train, y_test = sklearn.model_selection.train_test_split(X,y, train_size=.8, random_state=0)"
   ]
  },
  {
   "cell_type": "markdown",
   "metadata": {},
   "source": [
    "## Logistic Regression"
   ]
  },
  {
   "cell_type": "code",
   "execution_count": 11,
   "metadata": {},
   "outputs": [
    {
     "name": "stderr",
     "output_type": "stream",
     "text": [
      "/opt/anaconda3/lib/python3.7/site-packages/sklearn/linear_model/_logistic.py:764: ConvergenceWarning: lbfgs failed to converge (status=1):\n",
      "STOP: TOTAL NO. of ITERATIONS REACHED LIMIT.\n",
      "\n",
      "Increase the number of iterations (max_iter) or scale the data as shown in:\n",
      "    https://scikit-learn.org/stable/modules/preprocessing.html\n",
      "Please also refer to the documentation for alternative solver options:\n",
      "    https://scikit-learn.org/stable/modules/linear_model.html#logistic-regression\n",
      "  extra_warning_msg=_LOGISTIC_SOLVER_CONVERGENCE_MSG)\n"
     ]
    },
    {
     "data": {
      "text/plain": [
       "LogisticRegression()"
      ]
     },
     "execution_count": 11,
     "metadata": {},
     "output_type": "execute_result"
    }
   ],
   "source": [
    "from sklearn.linear_model import LogisticRegression\n",
    "lr = LogisticRegression()\n",
    "lr.fit(X_train, y_train)"
   ]
  },
  {
   "cell_type": "code",
   "execution_count": 12,
   "metadata": {},
   "outputs": [],
   "source": [
    "from sklearn.metrics import balanced_accuracy_score\n",
    "from sklearn.metrics import accuracy_score\n",
    "from sklearn.metrics import recall_score"
   ]
  },
  {
   "cell_type": "code",
   "execution_count": 16,
   "metadata": {},
   "outputs": [
    {
     "ename": "NameError",
     "evalue": "name 'sk_mtrx' is not defined",
     "output_type": "error",
     "traceback": [
      "\u001b[0;31m---------------------------------------------------------------------------\u001b[0m",
      "\u001b[0;31mNameError\u001b[0m                                 Traceback (most recent call last)",
      "\u001b[0;32m<ipython-input-16-a1fe3378bf2b>\u001b[0m in \u001b[0;36m<module>\u001b[0;34m\u001b[0m\n\u001b[1;32m      1\u001b[0m \u001b[0my_score_test\u001b[0m \u001b[0;34m=\u001b[0m \u001b[0mlr\u001b[0m\u001b[0;34m.\u001b[0m\u001b[0mpredict\u001b[0m\u001b[0;34m(\u001b[0m\u001b[0mX_test\u001b[0m\u001b[0;34m)\u001b[0m\u001b[0;34m\u001b[0m\u001b[0;34m\u001b[0m\u001b[0m\n\u001b[1;32m      2\u001b[0m \u001b[0;31m#metrics we are interested in\u001b[0m\u001b[0;34m\u001b[0m\u001b[0;34m\u001b[0m\u001b[0;34m\u001b[0m\u001b[0m\n\u001b[0;32m----> 3\u001b[0;31m \u001b[0mav_prec\u001b[0m \u001b[0;34m=\u001b[0m \u001b[0msk_mtrx\u001b[0m\u001b[0;34m.\u001b[0m\u001b[0maverage_precision_score\u001b[0m\u001b[0;34m(\u001b[0m\u001b[0my_test\u001b[0m\u001b[0;34m,\u001b[0m \u001b[0my_score_test\u001b[0m\u001b[0;34m)\u001b[0m\u001b[0;34m\u001b[0m\u001b[0;34m\u001b[0m\u001b[0m\n\u001b[0m\u001b[1;32m      4\u001b[0m \u001b[0;34m\u001b[0m\u001b[0m\n\u001b[1;32m      5\u001b[0m \u001b[0;31m#for this model we are particularly interested in maximizing recall at the detriment of precision\u001b[0m\u001b[0;34m\u001b[0m\u001b[0;34m\u001b[0m\u001b[0;34m\u001b[0m\u001b[0m\n",
      "\u001b[0;31mNameError\u001b[0m: name 'sk_mtrx' is not defined"
     ]
    }
   ],
   "source": [
    "y_score_test = lr.predict(X_test)\n",
    "#metrics we are interested in\n",
    "av_prec = sk_mtrx.average_precision_score(y_test, y_score_test)\n",
    "\n",
    "#for this model we are particularly interested in maximizing recall at the detriment of precision\n",
    "recall = sk_mtrx.recall_score(y_test, y_score_test, average = None)\n",
    "bal_acc = sk_mtrx.balanced_accuracy_score(y_test,y_score_test)\n",
    "conf = sk_mtrx.confusion_matrix(y_test, y_score_test)\n",
    "f1 = sk_mtrx.f1_score(y_test, y_score_test)\n",
    "\n",
    "\n",
    "print(\"test set:\")\n",
    "print((\"recall score:\\t\\t{0}\\nbalanced accuracy score: {1}\\n confusion matrix:\\n{2}\\n\"+\n",
    "\"f1 score: \\t\\t{3}\").format(recall, bal_acc, conf,f1))\n",
    "\n",
    "\n",
    "sk_mtrx.plot_roc_curve(lr, X_test, y_test)\n",
    "plt.grid()"
   ]
  },
  {
   "cell_type": "code",
   "execution_count": 15,
   "metadata": {},
   "outputs": [
    {
     "name": "stdout",
     "output_type": "stream",
     "text": [
      "[[691  28]\n",
      " [ 10  24]]\n",
      "              precision    recall  f1-score   support\n",
      "\n",
      "           0       0.99      0.96      0.97       719\n",
      "           1       0.46      0.71      0.56        34\n",
      "\n",
      "    accuracy                           0.95       753\n",
      "   macro avg       0.72      0.83      0.77       753\n",
      "weighted avg       0.96      0.95      0.95       753\n",
      "\n"
     ]
    }
   ],
   "source": [
    "from sklearn.metrics import classification_report, confusion_matrix\n",
    "print(confusion_matrix(y_test,y_pred))\n",
    "print(classification_report(y_test,y_pred))"
   ]
  },
  {
   "cell_type": "code",
   "execution_count": 14,
   "metadata": {},
   "outputs": [],
   "source": [
    "y_pred = lr.predict(X_test)"
   ]
  },
  {
   "cell_type": "code",
   "execution_count": 53,
   "metadata": {},
   "outputs": [
    {
     "data": {
      "text/plain": [
       "<matplotlib.axes._subplots.AxesSubplot at 0x1a1c647a90>"
      ]
     },
     "execution_count": 53,
     "metadata": {},
     "output_type": "execute_result"
    },
    {
     "data": {
      "image/png": "[encoded data removed]",
      "text/plain": [
       "<Figure size 432x288 with 1 Axes>"
      ]
     },
     "metadata": {
      "needs_background": "light"
     },
     "output_type": "display_data"
    }
   ],
   "source": []
  },
  {
   "cell_type": "code",
   "execution_count": null,
   "metadata": {},
   "outputs": [],
   "source": []
  },
  {
   "cell_type": "code",
   "execution_count": null,
   "metadata": {},
   "outputs": [],
   "source": []
  },
  {
   "cell_type": "markdown",
   "metadata": {},
   "source": [
    "## Naive Bayes"
   ]
  },
  {
   "cell_type": "code",
   "execution_count": 12,
   "metadata": {},
   "outputs": [
    {
     "data": {
      "text/plain": [
       "array([[-2.55144920e-01, -3.34395887e-01, -2.08366719e-01, ...,\n",
       "        -1.50988178e-01, -8.12375630e-01, -7.46900775e-01],\n",
       "       [-5.55797049e-01, -4.84979417e-01, -4.91682632e-01, ...,\n",
       "        -9.67658295e-01, -8.12375630e-01, -7.46900775e-01],\n",
       "       [ 3.67212352e+00,  3.45170429e+00,  2.88631479e+00, ...,\n",
       "         9.25531520e-01,  1.47830015e-01, -6.35559232e-01],\n",
       "       ...,\n",
       "       [-4.61843259e-01, -3.55907820e-01, -3.60921442e-01, ...,\n",
       "        -9.55284505e-01, -6.90659421e-01, -6.21641539e-01],\n",
       "       [ 7.92569338e-03, -7.62526932e-02, -1.22249336e-02, ...,\n",
       "         2.32599300e-01, -9.34240059e-04,  7.42431028e-02],\n",
       "       [-5.55797049e-01, -4.84979417e-01, -4.91682632e-01, ...,\n",
       "        -9.67658295e-01, -8.12375630e-01, -7.46900775e-01]])"
      ]
     },
     "execution_count": 12,
     "metadata": {},
     "output_type": "execute_result"
    }
   ],
   "source": [
    "from sklearn.preprocessing import StandardScaler\n",
    "\n",
    "std_scaler = StandardScaler()\n",
    "\n",
    "#Normalize X using mean normalization. Minmax could partly negate the difference we've introduced earlier.\n",
    "X_norm = std_scaler.fit_transform(X_train)\n",
    "X_test = std_scaler.transform(X_test)\n"
   ]
  },
  {
   "cell_type": "code",
   "execution_count": 13,
   "metadata": {},
   "outputs": [
    {
     "data": {
      "text/plain": [
       "<matplotlib.axes._subplots.AxesSubplot at 0x1a1d369d50>"
      ]
     },
     "execution_count": 13,
     "metadata": {},
     "output_type": "execute_result"
    },
    {
     "data": {
      "image/png": "[encoded data removed]",
      "text/plain": [
       "<Figure size 432x288 with 1 Axes>"
      ]
     },
     "metadata": {
      "needs_background": "light"
     },
     "output_type": "display_data"
    }
   ],
   "source": [
    "#Imbalanced Data, Solve with Random Over Sampling Technique\n",
    "from imblearn.over_sampling import RandomOverSampler\n",
    "\n",
    "ros = RandomOverSampler(random_state = 3)\n",
    "\n",
    "#In this current setup, oversampling reduces the number of False Negatives.\n",
    "X_train,y_train = ros.fit_resample(X_norm,y_train)\n",
    "y_train.hist()"
   ]
  },
  {
   "cell_type": "code",
   "execution_count": 14,
   "metadata": {},
   "outputs": [],
   "source": [
    "from sklearn.naive_bayes import BernoulliNB\n",
    "import sklearn.metrics as sk_mtrx"
   ]
  },
  {
   "cell_type": "code",
   "execution_count": 21,
   "metadata": {},
   "outputs": [
    {
     "data": {
      "text/plain": [
       "BernoulliNB()"
      ]
     },
     "execution_count": 21,
     "metadata": {},
     "output_type": "execute_result"
    }
   ],
   "source": [
    "#train the model\n",
    "clf = BernoulliNB()\n",
    "clf.fit(X_train, y_train)"
   ]
  },
  {
   "cell_type": "code",
   "execution_count": 22,
   "metadata": {},
   "outputs": [
    {
     "name": "stdout",
     "output_type": "stream",
     "text": [
      "test set:\n",
      "recall score:\t\t[0.95132128 0.94117647]\n",
      "balanced accuracy score: 0.9462488750715863\n",
      " confusion matrix:\n",
      "[[684  35]\n",
      " [  2  32]]\n",
      "f1 score: \t\t0.6336633663366337\n"
     ]
    },
    {
     "data": {
      "image/png": "[encoded data removed]",
      "text/plain": [
       "<Figure size 432x288 with 1 Axes>"
      ]
     },
     "metadata": {
      "needs_background": "light"
     },
     "output_type": "display_data"
    }
   ],
   "source": [
    "y_score_test = clf.predict(X_test)\n",
    "#metrics we are interested in\n",
    "av_prec = sk_mtrx.average_precision_score(y_test, y_score_test)\n",
    "\n",
    "#for this model we are particularly interested in maximizing recall at the detriment of precision\n",
    "recall = sk_mtrx.recall_score(y_test, y_score_test, average = None)\n",
    "bal_acc = sk_mtrx.balanced_accuracy_score(y_test,y_score_test)\n",
    "conf = sk_mtrx.confusion_matrix(y_test, y_score_test)\n",
    "f1 = sk_mtrx.f1_score(y_test, y_score_test)\n",
    "\n",
    "\n",
    "print(\"test set:\")\n",
    "print((\"recall score:\\t\\t{0}\\nbalanced accuracy score: {1}\\n confusion matrix:\\n{2}\\n\"+\n",
    "\"f1 score: \\t\\t{3}\").format(recall, bal_acc, conf,f1))\n",
    "\n",
    "\n",
    "sk_mtrx.plot_roc_curve(clf, X_test, y_test)\n",
    "plt.grid()"
   ]
  },
  {
   "cell_type": "code",
   "execution_count": 19,
   "metadata": {},
   "outputs": [
    {
     "data": {
      "text/plain": [
       "0.45217316277762815"
      ]
     },
     "execution_count": 19,
     "metadata": {},
     "output_type": "execute_result"
    }
   ],
   "source": []
  },
  {
   "cell_type": "code",
   "execution_count": 20,
   "metadata": {},
   "outputs": [
    {
     "data": {
      "text/plain": [
       "Text(0.5, 1.0, '2-class Precision-Recall curve:Average Precision =0.45')"
      ]
     },
     "execution_count": 20,
     "metadata": {},
     "output_type": "execute_result"
    },
    {
     "data": {
      "image/png": "[encoded data removed]",
      "text/plain": [
       "<Figure size 432x288 with 1 Axes>"
      ]
     },
     "metadata": {
      "needs_background": "light"
     },
     "output_type": "display_data"
    }
   ],
   "source": [
    "disp = sk_mtrx.plot_precision_recall_curve(clf, X_test, y_test)\n",
    "disp.ax_.set_title('2-class Precision-Recall curve:Average Precision ={0:0.2f}'.format(av_prec))"
   ]
  },
  {
   "cell_type": "markdown",
   "metadata": {},
   "source": []
  },
  {
   "cell_type": "code",
   "execution_count": null,
   "metadata": {},
   "outputs": [],
   "source": []
  },
  {
   "cell_type": "code",
   "execution_count": null,
   "metadata": {},
   "outputs": [],
   "source": []
  },
  {
   "cell_type": "code",
   "execution_count": null,
   "metadata": {},
   "outputs": [],
   "source": []
  },
  {
   "cell_type": "markdown",
   "metadata": {},
   "source": [
    "## Let's try our model on pictures!\n",
    "### Feel free to load your own pictures on the last line"
   ]
  },
  {
   "cell_type": "code",
   "execution_count": 17,
   "metadata": {},
   "outputs": [],
   "source": [
    "cov = \"Demo\\\\covid-demo.jpg\"\n",
    "non = \"Demo\\\\normal-demo.jpg\""
   ]
  },
  {
   "cell_type": "code",
   "execution_count": 18,
   "metadata": {},
   "outputs": [],
   "source": [
    "def test_model(path):\n",
    "    pic = Image.open(path)\n",
    "    pic.show()\n",
    "    resized = pic.resize((50, 50), Image.BICUBIC)\n",
    "    sharpened = ImageEnhance.Sharpness(resized).enhance(1.5)\n",
    "    contrasted = ImageEnhance.Contrast(sharpened).enhance(1.1)\n",
    "    gray_img = ImageOps.grayscale(contrasted)\n",
    "    covid_pixels = np.asarray(gray_img).flatten()\n",
    "    pic.close()\n",
    "    covid_pixels = pd.DataFrame(data = covid_pixels).transpose()\n",
    "    covid_pixels = std_scaler.transform(covid_pixels)\n",
    "    if clf.predict(covid_pixels)[0] == 1:\n",
    "        print(\"The patient has covid.\")\n",
    "    else:\n",
    "        print(\"The patient does not have covid.\")"
   ]
  },
  {
   "cell_type": "code",
   "execution_count": 19,
   "metadata": {},
   "outputs": [
    {
     "name": "stdout",
     "output_type": "stream",
     "text": [
      "The patient has covid.\n",
      "The patient does not have covid.\n"
     ]
    }
   ],
   "source": [
    "for pic in [cov,non]:\n",
    "    test_model(pic)"
   ]
  },
  {
   "cell_type": "code",
   "execution_count": 21,
   "metadata": {},
   "outputs": [],
   "source": [
    "#Your turn!\n",
    "#test_model(...)"
   ]
  },
  {
   "cell_type": "code",
   "execution_count": 17,
   "metadata": {},
   "outputs": [
    {
     "data": {
      "image/png": "[encoded data removed]",
      "text/plain": [
       "<Figure size 432x288 with 1 Axes>"
      ]
     },
     "metadata": {
      "needs_background": "light"
     },
     "output_type": "display_data"
    }
   ],
   "source": [
    "y.hist()\n",
    "plt.title('Data-Set')\n",
    "plt.ylabel('Frequency') \n",
    "positions = (0, 1)\n",
    "labels = (\"Non-Covid\", \"Covid\")\n",
    "plt.xticks(positions, labels)\n",
    "plt.savefig('data.jpg')"
   ]
  },
  {
   "cell_type": "code",
   "execution_count": null,
   "metadata": {},
   "outputs": [],
   "source": []
  }
 ],
 "metadata": {
  "kernelspec": {
   "display_name": "Python 3",
   "language": "python",
   "name": "python3"
  },
  "language_info": {
   "codemirror_mode": {
    "name": "ipython",
    "version": 3
   },
   "file_extension": ".py",
   "mimetype": "text/x-python",
   "name": "python",
   "nbconvert_exporter": "python",
   "pygments_lexer": "ipython3",
   "version": "3.7.6"
  }
 },
 "nbformat": 4,
 "nbformat_minor": 4
}
