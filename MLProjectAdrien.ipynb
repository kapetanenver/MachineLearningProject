{
 "cells": [
  {
   "cell_type": "markdown",
   "metadata": {},
   "source": [
    "# Covid X-Ray Diagnosis\n",
    "## Machine Learning Final Project\n",
    "### Enver Kapetanovic & Adrien Ventugol \n",
    "### Group 15"
   ]
  },
  {
   "cell_type": "code",
   "execution_count": 1,
   "metadata": {},
   "outputs": [],
   "source": [
    "from PIL import Image, ImageOps, ImageEnhance\n",
    "import matplotlib.pyplot as plt\n",
    "import pandas as pd \n",
    "import numpy as np\n",
    "import matplotlib.pyplot as plt\n",
    "import pandas as pd \n",
    "import numpy as np\n",
    "import sklearn\n",
    "import imblearn"
   ]
  },
  {
   "cell_type": "code",
   "execution_count": 2,
   "metadata": {},
   "outputs": [
    {
     "data": {
      "text/html": [
       "<div>\n",
       "<style scoped>\n",
       "    .dataframe tbody tr th:only-of-type {\n",
       "        vertical-align: middle;\n",
       "    }\n",
       "\n",
       "    .dataframe tbody tr th {\n",
       "        vertical-align: top;\n",
       "    }\n",
       "\n",
       "    .dataframe thead th {\n",
       "        text-align: right;\n",
       "    }\n",
       "</style>\n",
       "<table border=\"1\" class=\"dataframe\">\n",
       "  <thead>\n",
       "    <tr style=\"text-align: right;\">\n",
       "      <th></th>\n",
       "      <th>image_path</th>\n",
       "      <th>Test</th>\n",
       "    </tr>\n",
       "  </thead>\n",
       "  <tbody>\n",
       "    <tr>\n",
       "      <th>0</th>\n",
       "      <td>data_upload_v2/test/covid/03BF7561-A9BA-4C3C-B...</td>\n",
       "      <td>1</td>\n",
       "    </tr>\n",
       "    <tr>\n",
       "      <th>1</th>\n",
       "      <td>data_upload_v2/test/covid/1-s2.0-S014067362030...</td>\n",
       "      <td>1</td>\n",
       "    </tr>\n",
       "    <tr>\n",
       "      <th>2</th>\n",
       "      <td>data_upload_v2/test/covid/1-s2.0-S092966462030...</td>\n",
       "      <td>1</td>\n",
       "    </tr>\n",
       "    <tr>\n",
       "      <th>3</th>\n",
       "      <td>data_upload_v2/test/covid/1-s2.0-S092966462030...</td>\n",
       "      <td>1</td>\n",
       "    </tr>\n",
       "    <tr>\n",
       "      <th>4</th>\n",
       "      <td>data_upload_v2/test/covid/1-s2.0-S092966462030...</td>\n",
       "      <td>1</td>\n",
       "    </tr>\n",
       "  </tbody>\n",
       "</table>\n",
       "</div>"
      ],
      "text/plain": [
       "                                          image_path  Test\n",
       "0  data_upload_v2/test/covid/03BF7561-A9BA-4C3C-B...     1\n",
       "1  data_upload_v2/test/covid/1-s2.0-S014067362030...     1\n",
       "2  data_upload_v2/test/covid/1-s2.0-S092966462030...     1\n",
       "3  data_upload_v2/test/covid/1-s2.0-S092966462030...     1\n",
       "4  data_upload_v2/test/covid/1-s2.0-S092966462030...     1"
      ]
     },
     "execution_count": 2,
     "metadata": {},
     "output_type": "execute_result"
    }
   ],
   "source": [
    "#First import the paths of the pictures that we created with DataProcessor.ipynb\n",
    "paths = pd.read_csv(\"paths.csv\")\n",
    "paths.head()"
   ]
  },
  {
   "cell_type": "code",
   "execution_count": 3,
   "metadata": {},
   "outputs": [],
   "source": [
    "#initiate the list we will use to first store the pixel data, then pass into the dataframe.\n",
    "pixel_data = []"
   ]
  },
  {
   "cell_type": "code",
   "execution_count": 4,
   "metadata": {},
   "outputs": [],
   "source": [
    "#define a function to use as a lambda function in DataFrame.apply()\n",
    "def to_pixel(row):\n",
    "    color_img = Image.open(row[\"image_path\"])\n",
    "    resized = color_img.resize((50, 50), Image.BICUBIC) #Bicubic/Nearest resample give the best results\n",
    "    sharpened = ImageEnhance.Sharpness(resized).enhance(1.5)\n",
    "    contrasted = ImageEnhance.Contrast(sharpened).enhance(1.1)\n",
    "    gray_img = ImageOps.grayscale(contrasted)\n",
    "    pixel_data.append(np.asarray(gray_img).flatten().tolist()) #convert image to numpy array, flatten it, convert to list\n",
    "    color_img.close()\n",
    "    # pixel data now has the complete data of another picture at pixel_data[-1]"
   ]
  },
  {
   "cell_type": "code",
   "execution_count": 5,
   "metadata": {},
   "outputs": [],
   "source": [
    "#apply the lambda function to all the rows of the paths dataframe\n",
    "paths.apply(lambda row: to_pixel(row), axis = 1)\n",
    "\n",
    "#Separate Data into X and y\n",
    "y = paths.loc[0:,'Test']\n",
    "X = pd.DataFrame(data = pixel_data)"
   ]
  },
  {
   "cell_type": "code",
   "execution_count": 6,
   "metadata": {},
   "outputs": [
    {
     "data": {
      "text/html": [
       "<div>\n",
       "<style scoped>\n",
       "    .dataframe tbody tr th:only-of-type {\n",
       "        vertical-align: middle;\n",
       "    }\n",
       "\n",
       "    .dataframe tbody tr th {\n",
       "        vertical-align: top;\n",
       "    }\n",
       "\n",
       "    .dataframe thead th {\n",
       "        text-align: right;\n",
       "    }\n",
       "</style>\n",
       "<table border=\"1\" class=\"dataframe\">\n",
       "  <thead>\n",
       "    <tr style=\"text-align: right;\">\n",
       "      <th></th>\n",
       "      <th>0</th>\n",
       "      <th>1</th>\n",
       "      <th>2</th>\n",
       "      <th>3</th>\n",
       "      <th>4</th>\n",
       "      <th>5</th>\n",
       "      <th>6</th>\n",
       "      <th>7</th>\n",
       "      <th>8</th>\n",
       "      <th>9</th>\n",
       "      <th>...</th>\n",
       "      <th>2490</th>\n",
       "      <th>2491</th>\n",
       "      <th>2492</th>\n",
       "      <th>2493</th>\n",
       "      <th>2494</th>\n",
       "      <th>2495</th>\n",
       "      <th>2496</th>\n",
       "      <th>2497</th>\n",
       "      <th>2498</th>\n",
       "      <th>2499</th>\n",
       "    </tr>\n",
       "  </thead>\n",
       "  <tbody>\n",
       "    <tr>\n",
       "      <th>0</th>\n",
       "      <td>40</td>\n",
       "      <td>52</td>\n",
       "      <td>68</td>\n",
       "      <td>41</td>\n",
       "      <td>37</td>\n",
       "      <td>37</td>\n",
       "      <td>36</td>\n",
       "      <td>34</td>\n",
       "      <td>58</td>\n",
       "      <td>76</td>\n",
       "      <td>...</td>\n",
       "      <td>179</td>\n",
       "      <td>179</td>\n",
       "      <td>179</td>\n",
       "      <td>182</td>\n",
       "      <td>186</td>\n",
       "      <td>184</td>\n",
       "      <td>180</td>\n",
       "      <td>175</td>\n",
       "      <td>163</td>\n",
       "      <td>153</td>\n",
       "    </tr>\n",
       "    <tr>\n",
       "      <th>1</th>\n",
       "      <td>50</td>\n",
       "      <td>56</td>\n",
       "      <td>60</td>\n",
       "      <td>67</td>\n",
       "      <td>69</td>\n",
       "      <td>74</td>\n",
       "      <td>89</td>\n",
       "      <td>87</td>\n",
       "      <td>89</td>\n",
       "      <td>107</td>\n",
       "      <td>...</td>\n",
       "      <td>92</td>\n",
       "      <td>113</td>\n",
       "      <td>120</td>\n",
       "      <td>148</td>\n",
       "      <td>151</td>\n",
       "      <td>129</td>\n",
       "      <td>120</td>\n",
       "      <td>109</td>\n",
       "      <td>95</td>\n",
       "      <td>82</td>\n",
       "    </tr>\n",
       "    <tr>\n",
       "      <th>2</th>\n",
       "      <td>68</td>\n",
       "      <td>163</td>\n",
       "      <td>35</td>\n",
       "      <td>0</td>\n",
       "      <td>4</td>\n",
       "      <td>4</td>\n",
       "      <td>3</td>\n",
       "      <td>3</td>\n",
       "      <td>3</td>\n",
       "      <td>3</td>\n",
       "      <td>...</td>\n",
       "      <td>131</td>\n",
       "      <td>125</td>\n",
       "      <td>123</td>\n",
       "      <td>97</td>\n",
       "      <td>61</td>\n",
       "      <td>34</td>\n",
       "      <td>14</td>\n",
       "      <td>0</td>\n",
       "      <td>1</td>\n",
       "      <td>3</td>\n",
       "    </tr>\n",
       "    <tr>\n",
       "      <th>3</th>\n",
       "      <td>118</td>\n",
       "      <td>44</td>\n",
       "      <td>0</td>\n",
       "      <td>0</td>\n",
       "      <td>0</td>\n",
       "      <td>0</td>\n",
       "      <td>0</td>\n",
       "      <td>0</td>\n",
       "      <td>0</td>\n",
       "      <td>0</td>\n",
       "      <td>...</td>\n",
       "      <td>142</td>\n",
       "      <td>114</td>\n",
       "      <td>50</td>\n",
       "      <td>10</td>\n",
       "      <td>0</td>\n",
       "      <td>0</td>\n",
       "      <td>0</td>\n",
       "      <td>0</td>\n",
       "      <td>0</td>\n",
       "      <td>15</td>\n",
       "    </tr>\n",
       "    <tr>\n",
       "      <th>4</th>\n",
       "      <td>47</td>\n",
       "      <td>123</td>\n",
       "      <td>22</td>\n",
       "      <td>0</td>\n",
       "      <td>0</td>\n",
       "      <td>0</td>\n",
       "      <td>0</td>\n",
       "      <td>0</td>\n",
       "      <td>0</td>\n",
       "      <td>0</td>\n",
       "      <td>...</td>\n",
       "      <td>174</td>\n",
       "      <td>156</td>\n",
       "      <td>144</td>\n",
       "      <td>88</td>\n",
       "      <td>33</td>\n",
       "      <td>3</td>\n",
       "      <td>0</td>\n",
       "      <td>0</td>\n",
       "      <td>0</td>\n",
       "      <td>0</td>\n",
       "    </tr>\n",
       "  </tbody>\n",
       "</table>\n",
       "<p>5 rows × 2500 columns</p>\n",
       "</div>"
      ],
      "text/plain": [
       "   0     1     2     3     4     5     6     7     8     9     ...  2490  \\\n",
       "0    40    52    68    41    37    37    36    34    58    76  ...   179   \n",
       "1    50    56    60    67    69    74    89    87    89   107  ...    92   \n",
       "2    68   163    35     0     4     4     3     3     3     3  ...   131   \n",
       "3   118    44     0     0     0     0     0     0     0     0  ...   142   \n",
       "4    47   123    22     0     0     0     0     0     0     0  ...   174   \n",
       "\n",
       "   2491  2492  2493  2494  2495  2496  2497  2498  2499  \n",
       "0   179   179   182   186   184   180   175   163   153  \n",
       "1   113   120   148   151   129   120   109    95    82  \n",
       "2   125   123    97    61    34    14     0     1     3  \n",
       "3   114    50    10     0     0     0     0     0    15  \n",
       "4   156   144    88    33     3     0     0     0     0  \n",
       "\n",
       "[5 rows x 2500 columns]"
      ]
     },
     "execution_count": 6,
     "metadata": {},
     "output_type": "execute_result"
    }
   ],
   "source": [
    "#check X set\n",
    "X.head()"
   ]
  },
  {
   "cell_type": "code",
   "execution_count": 7,
   "metadata": {},
   "outputs": [
    {
     "data": {
      "text/plain": [
       "0    1\n",
       "1    1\n",
       "2    1\n",
       "3    1\n",
       "4    1\n",
       "Name: Test, dtype: int64"
      ]
     },
     "execution_count": 7,
     "metadata": {},
     "output_type": "execute_result"
    }
   ],
   "source": [
    "#check y\n",
    "y.head()"
   ]
  },
  {
   "cell_type": "code",
   "execution_count": 8,
   "metadata": {},
   "outputs": [],
   "source": [
    "#Train/test split\n",
    "X_train, X_test, y_train, y_test = sklearn.model_selection.train_test_split(X,y, train_size=.8, random_state=0)"
   ]
  },
  {
   "cell_type": "code",
   "execution_count": 9,
   "metadata": {},
   "outputs": [],
   "source": [
    "from sklearn.preprocessing import StandardScaler\n",
    "\n",
    "std_scaler = StandardScaler()\n",
    "\n",
    "#Normalize X using mean normalization. Minmax could partly negate the difference we've introduced earlier.\n",
    "X_norm = std_scaler.fit_transform(X_train)\n",
    "X_test = std_scaler.transform(X_test)"
   ]
  },
  {
   "cell_type": "code",
   "execution_count": 10,
   "metadata": {},
   "outputs": [
    {
     "data": {
      "text/plain": [
       "<matplotlib.axes._subplots.AxesSubplot at 0x225b5f9b7f0>"
      ]
     },
     "execution_count": 10,
     "metadata": {},
     "output_type": "execute_result"
    },
    {
     "data": {
      "image/png": "[encoded data removed]",
      "text/plain": [
       "<Figure size 432x288 with 1 Axes>"
      ]
     },
     "metadata": {
      "needs_background": "light"
     },
     "output_type": "display_data"
    }
   ],
   "source": [
    "#Imbalanced Data, Solve with Random Over Sampling Technique\n",
    "from imblearn.over_sampling import RandomOverSampler\n",
    "\n",
    "ros = RandomOverSampler(random_state = 3)\n",
    "\n",
    "#In this current setup, oversampling reduces the number of False Negatives.\n",
    "X_train,y_train = ros.fit_resample(X_norm,y_train)\n",
    "y_train.hist()"
   ]
  },
  {
   "cell_type": "code",
   "execution_count": 11,
   "metadata": {},
   "outputs": [],
   "source": [
    "from sklearn.naive_bayes import BernoulliNB\n",
    "import sklearn.metrics as sk_mtrx"
   ]
  },
  {
   "cell_type": "code",
   "execution_count": 12,
   "metadata": {},
   "outputs": [
    {
     "data": {
      "text/plain": [
       "BernoulliNB()"
      ]
     },
     "execution_count": 12,
     "metadata": {},
     "output_type": "execute_result"
    }
   ],
   "source": [
    "#train the model\n",
    "clf = BernoulliNB()\n",
    "clf.fit(X_train, y_train)"
   ]
  },
  {
   "cell_type": "code",
   "execution_count": 20,
   "metadata": {},
   "outputs": [
    {
     "name": "stdout",
     "output_type": "stream",
     "text": [
      "test set:\n",
      "recall score:\t\t[0.97493036 0.91428571]\n",
      "balanced accuracy score: 0.944608038201353\n",
      " confusion matrix:\n",
      "[[700  18]\n",
      " [  3  32]]\n",
      "f1 score: \t\t0.7529411764705883\n"
     ]
    },
    {
     "data": {
      "image/png": "[encoded data removed]",
      "text/plain": [
       "<Figure size 432x288 with 1 Axes>"
      ]
     },
     "metadata": {
      "needs_background": "light"
     },
     "output_type": "display_data"
    }
   ],
   "source": [
    "y_score_test = clf.predict(X_test)\n",
    "#metrics we are interested in\n",
    "av_prec = sk_mtrx.average_precision_score(y_test, y_score_test)\n",
    "\n",
    "#for this model we are particularly interested in maximizing recall at the detriment of precision\n",
    "recall = sk_mtrx.recall_score(y_test, y_score_test, average = None)\n",
    "bal_acc = sk_mtrx.balanced_accuracy_score(y_test,y_score_test)\n",
    "conf = sk_mtrx.confusion_matrix(y_test, y_score_test)\n",
    "f1 = sk_mtrx.f1_score(y_test, y_score_test)\n",
    "\n",
    "\n",
    "print(\"test set:\")\n",
    "print((\"recall score:\\t\\t{0}\\nbalanced accuracy score: {1}\\n confusion matrix:\\n{2}\\n\"+\n",
    "\"f1 score: \\t\\t{3}\").format(recall, bal_acc, conf,f1))\n",
    "\n",
    "\n",
    "sk_mtrx.plot_roc_curve(clf, X_test, y_test)\n",
    "plt.grid()"
   ]
  },
  {
   "cell_type": "code",
   "execution_count": 15,
   "metadata": {},
   "outputs": [
    {
     "data": {
      "text/plain": [
       "Text(0.5, 1.0, '2-class Precision-Recall curve:Average Precision =0.59')"
      ]
     },
     "execution_count": 15,
     "metadata": {},
     "output_type": "execute_result"
    },
    {
     "data": {
      "image/png": "[encoded data removed]",
      "text/plain": [
       "<Figure size 432x288 with 1 Axes>"
      ]
     },
     "metadata": {
      "needs_background": "light"
     },
     "output_type": "display_data"
    }
   ],
   "source": [
    "disp = sk_mtrx.plot_precision_recall_curve(clf, X_test, y_test)\n",
    "disp.ax_.set_title('2-class Precision-Recall curve:Average Precision ={0:0.2f}'.format(av_prec))"
   ]
  },
  {
   "cell_type": "markdown",
   "metadata": {},
   "source": [
    "## Let's try our model on pictures!\n",
    "### Feel free to load your own pictures on the last line"
   ]
  },
  {
   "cell_type": "code",
   "execution_count": 53,
   "metadata": {},
   "outputs": [],
   "source": [
    "cov = \"Demo\\\\covid-demo.jpg\"\n",
    "non = \"Demo\\\\normal-demo.jpg\""
   ]
  },
  {
   "cell_type": "code",
   "execution_count": 54,
   "metadata": {},
   "outputs": [],
   "source": [
    "def test_model(path):\n",
    "    pic = Image.open(path)\n",
    "    pic.show()\n",
    "    resized = pic.resize((50, 50), Image.BICUBIC)\n",
    "    sharpened = ImageEnhance.Sharpness(resized).enhance(1.5)\n",
    "    contrasted = ImageEnhance.Contrast(sharpened).enhance(1.1)\n",
    "    gray_img = ImageOps.grayscale(contrasted)\n",
    "    covid_pixels = np.asarray(gray_img).flatten()\n",
    "    pic.close()\n",
    "    covid_pixels = pd.DataFrame(data = covid_pixels).transpose()\n",
    "    covid_pixels = std_scaler.transform(covid_pixels)\n",
    "    if clf.predict(covid_pixels)[0] == 1:\n",
    "        print(\"The patient has covid.\")\n",
    "    else:\n",
    "        print(\"The patient does not have covid.\")"
   ]
  },
  {
   "cell_type": "code",
   "execution_count": 55,
   "metadata": {},
   "outputs": [
    {
     "name": "stdout",
     "output_type": "stream",
     "text": [
      "The patient has covid.\n",
      "The patient does not have covid.\n"
     ]
    }
   ],
   "source": [
    "for pic in [cov,non]:\n",
    "    test_model(pic)"
   ]
  },
  {
   "cell_type": "code",
   "execution_count": null,
   "metadata": {},
   "outputs": [],
   "source": [
    "#Your turn!\n",
    "test_model(...)"
   ]
  }
 ],
 "metadata": {
  "kernelspec": {
   "display_name": "Python 3",
   "language": "python",
   "name": "python3"
  },
  "language_info": {
   "codemirror_mode": {
    "name": "ipython",
    "version": 3
   },
   "file_extension": ".py",
   "mimetype": "text/x-python",
   "name": "python",
   "nbconvert_exporter": "python",
   "pygments_lexer": "ipython3",
   "version": "3.7.3"
  }
 },
 "nbformat": 4,
 "nbformat_minor": 4
}
