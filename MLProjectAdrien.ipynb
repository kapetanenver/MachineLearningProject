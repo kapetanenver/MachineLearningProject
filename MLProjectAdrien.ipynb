{
 "cells": [
  {
   "cell_type": "markdown",
   "metadata": {},
   "source": [
    "# Covid X-Ray Diagnosis\n",
    "## Machine Learning Final Project\n",
    "### Enver Kapetanovic & Adrien Ventugol \n",
    "### Group 15"
   ]
  },
  {
   "cell_type": "code",
   "execution_count": 1,
   "metadata": {},
   "outputs": [],
   "source": [
    "from PIL import Image, ImageOps, ImageEnhance\n",
    "import matplotlib.pyplot as plt\n",
    "import pandas as pd \n",
    "import numpy as np\n",
    "import matplotlib.pyplot as plt\n",
    "plt.rcParams.update({'font.size': 14})\n",
    "import pandas as pd \n",
    "import numpy as np\n",
    "import sklearn\n",
    "import imblearn"
   ]
  },
  {
   "cell_type": "code",
   "execution_count": 2,
   "metadata": {},
   "outputs": [],
   "source": [
    "#First import the paths of the pictures that we created with DataProcessor.ipynb\n",
    "paths = None\n",
    "paths = pd.read_csv(\"paths.csv\")"
   ]
  },
  {
   "cell_type": "code",
   "execution_count": 3,
   "metadata": {},
   "outputs": [],
   "source": [
    "#initiate the list we will use to first store the pixel data, then pass into the dataframe.\n",
    "pixel_data = []"
   ]
  },
  {
   "cell_type": "code",
   "execution_count": 4,
   "metadata": {},
   "outputs": [],
   "source": [
    "#define a processing function to obtain transformed pixel data from the paths of the images\n",
    "def to_pixel(row):\n",
    "    color_img = Image.open(row[\"image_path\"])\n",
    "    resized = color_img.resize((50, 50), Image.NEAREST) #Nearest resample give the best results\n",
    "    sharpened = ImageEnhance.Sharpness(resized).enhance(2.0)\n",
    "    contrasted = ImageEnhance.Contrast(sharpened).enhance(1.1)\n",
    "    gray_img = ImageOps.grayscale(contrasted)\n",
    "    pixel_data.append(np.asarray(gray_img).flatten().tolist()) #convert image to numpy array, flatten it, convert to list\n",
    "    color_img.close()\n",
    "    # pixel data now has the complete data of another picture at pixel_data[-1]"
   ]
  },
  {
   "cell_type": "code",
   "execution_count": 5,
   "metadata": {},
   "outputs": [],
   "source": [
    "#apply use the functions as lambdas to apply to all the rows\n",
    "paths.apply(lambda row: to_pixel(row), axis = 1)\n",
    "\n",
    "#Separate Data into X and y\n",
    "y = paths.loc[0:,'Test']\n",
    "X = pd.DataFrame(data = pixel_data)"
   ]
  },
  {
   "cell_type": "code",
   "execution_count": 6,
   "metadata": {},
   "outputs": [
    {
     "data": {
      "text/html": [
       "<div>\n",
       "<style scoped>\n",
       "    .dataframe tbody tr th:only-of-type {\n",
       "        vertical-align: middle;\n",
       "    }\n",
       "\n",
       "    .dataframe tbody tr th {\n",
       "        vertical-align: top;\n",
       "    }\n",
       "\n",
       "    .dataframe thead th {\n",
       "        text-align: right;\n",
       "    }\n",
       "</style>\n",
       "<table border=\"1\" class=\"dataframe\">\n",
       "  <thead>\n",
       "    <tr style=\"text-align: right;\">\n",
       "      <th></th>\n",
       "      <th>0</th>\n",
       "      <th>1</th>\n",
       "      <th>2</th>\n",
       "      <th>3</th>\n",
       "      <th>4</th>\n",
       "      <th>5</th>\n",
       "      <th>6</th>\n",
       "      <th>7</th>\n",
       "      <th>8</th>\n",
       "      <th>9</th>\n",
       "      <th>...</th>\n",
       "      <th>2490</th>\n",
       "      <th>2491</th>\n",
       "      <th>2492</th>\n",
       "      <th>2493</th>\n",
       "      <th>2494</th>\n",
       "      <th>2495</th>\n",
       "      <th>2496</th>\n",
       "      <th>2497</th>\n",
       "      <th>2498</th>\n",
       "      <th>2499</th>\n",
       "    </tr>\n",
       "  </thead>\n",
       "  <tbody>\n",
       "    <tr>\n",
       "      <th>0</th>\n",
       "      <td>0</td>\n",
       "      <td>0</td>\n",
       "      <td>0</td>\n",
       "      <td>0</td>\n",
       "      <td>0</td>\n",
       "      <td>0</td>\n",
       "      <td>0</td>\n",
       "      <td>15</td>\n",
       "      <td>30</td>\n",
       "      <td>41</td>\n",
       "      <td>...</td>\n",
       "      <td>191</td>\n",
       "      <td>189</td>\n",
       "      <td>187</td>\n",
       "      <td>179</td>\n",
       "      <td>174</td>\n",
       "      <td>167</td>\n",
       "      <td>170</td>\n",
       "      <td>155</td>\n",
       "      <td>132</td>\n",
       "      <td>136</td>\n",
       "    </tr>\n",
       "    <tr>\n",
       "      <th>1</th>\n",
       "      <td>0</td>\n",
       "      <td>6</td>\n",
       "      <td>13</td>\n",
       "      <td>14</td>\n",
       "      <td>20</td>\n",
       "      <td>23</td>\n",
       "      <td>28</td>\n",
       "      <td>31</td>\n",
       "      <td>42</td>\n",
       "      <td>43</td>\n",
       "      <td>...</td>\n",
       "      <td>177</td>\n",
       "      <td>175</td>\n",
       "      <td>179</td>\n",
       "      <td>166</td>\n",
       "      <td>163</td>\n",
       "      <td>166</td>\n",
       "      <td>149</td>\n",
       "      <td>141</td>\n",
       "      <td>149</td>\n",
       "      <td>141</td>\n",
       "    </tr>\n",
       "    <tr>\n",
       "      <th>2</th>\n",
       "      <td>0</td>\n",
       "      <td>0</td>\n",
       "      <td>0</td>\n",
       "      <td>0</td>\n",
       "      <td>0</td>\n",
       "      <td>0</td>\n",
       "      <td>0</td>\n",
       "      <td>0</td>\n",
       "      <td>0</td>\n",
       "      <td>0</td>\n",
       "      <td>...</td>\n",
       "      <td>198</td>\n",
       "      <td>196</td>\n",
       "      <td>186</td>\n",
       "      <td>184</td>\n",
       "      <td>159</td>\n",
       "      <td>142</td>\n",
       "      <td>93</td>\n",
       "      <td>97</td>\n",
       "      <td>78</td>\n",
       "      <td>194</td>\n",
       "    </tr>\n",
       "    <tr>\n",
       "      <th>3</th>\n",
       "      <td>0</td>\n",
       "      <td>0</td>\n",
       "      <td>0</td>\n",
       "      <td>0</td>\n",
       "      <td>0</td>\n",
       "      <td>0</td>\n",
       "      <td>0</td>\n",
       "      <td>0</td>\n",
       "      <td>0</td>\n",
       "      <td>0</td>\n",
       "      <td>...</td>\n",
       "      <td>208</td>\n",
       "      <td>207</td>\n",
       "      <td>205</td>\n",
       "      <td>190</td>\n",
       "      <td>197</td>\n",
       "      <td>180</td>\n",
       "      <td>159</td>\n",
       "      <td>132</td>\n",
       "      <td>87</td>\n",
       "      <td>40</td>\n",
       "    </tr>\n",
       "    <tr>\n",
       "      <th>4</th>\n",
       "      <td>0</td>\n",
       "      <td>0</td>\n",
       "      <td>0</td>\n",
       "      <td>0</td>\n",
       "      <td>0</td>\n",
       "      <td>43</td>\n",
       "      <td>69</td>\n",
       "      <td>95</td>\n",
       "      <td>110</td>\n",
       "      <td>127</td>\n",
       "      <td>...</td>\n",
       "      <td>225</td>\n",
       "      <td>224</td>\n",
       "      <td>217</td>\n",
       "      <td>214</td>\n",
       "      <td>208</td>\n",
       "      <td>204</td>\n",
       "      <td>197</td>\n",
       "      <td>192</td>\n",
       "      <td>187</td>\n",
       "      <td>182</td>\n",
       "    </tr>\n",
       "    <tr>\n",
       "      <th>...</th>\n",
       "      <td>...</td>\n",
       "      <td>...</td>\n",
       "      <td>...</td>\n",
       "      <td>...</td>\n",
       "      <td>...</td>\n",
       "      <td>...</td>\n",
       "      <td>...</td>\n",
       "      <td>...</td>\n",
       "      <td>...</td>\n",
       "      <td>...</td>\n",
       "      <td>...</td>\n",
       "      <td>...</td>\n",
       "      <td>...</td>\n",
       "      <td>...</td>\n",
       "      <td>...</td>\n",
       "      <td>...</td>\n",
       "      <td>...</td>\n",
       "      <td>...</td>\n",
       "      <td>...</td>\n",
       "      <td>...</td>\n",
       "      <td>...</td>\n",
       "    </tr>\n",
       "    <tr>\n",
       "      <th>3759</th>\n",
       "      <td>0</td>\n",
       "      <td>0</td>\n",
       "      <td>0</td>\n",
       "      <td>0</td>\n",
       "      <td>0</td>\n",
       "      <td>0</td>\n",
       "      <td>46</td>\n",
       "      <td>225</td>\n",
       "      <td>234</td>\n",
       "      <td>48</td>\n",
       "      <td>...</td>\n",
       "      <td>233</td>\n",
       "      <td>240</td>\n",
       "      <td>248</td>\n",
       "      <td>219</td>\n",
       "      <td>232</td>\n",
       "      <td>185</td>\n",
       "      <td>126</td>\n",
       "      <td>83</td>\n",
       "      <td>16</td>\n",
       "      <td>0</td>\n",
       "    </tr>\n",
       "    <tr>\n",
       "      <th>3760</th>\n",
       "      <td>0</td>\n",
       "      <td>0</td>\n",
       "      <td>0</td>\n",
       "      <td>0</td>\n",
       "      <td>0</td>\n",
       "      <td>0</td>\n",
       "      <td>0</td>\n",
       "      <td>0</td>\n",
       "      <td>0</td>\n",
       "      <td>0</td>\n",
       "      <td>...</td>\n",
       "      <td>242</td>\n",
       "      <td>245</td>\n",
       "      <td>231</td>\n",
       "      <td>225</td>\n",
       "      <td>210</td>\n",
       "      <td>193</td>\n",
       "      <td>180</td>\n",
       "      <td>153</td>\n",
       "      <td>98</td>\n",
       "      <td>68</td>\n",
       "    </tr>\n",
       "    <tr>\n",
       "      <th>3761</th>\n",
       "      <td>0</td>\n",
       "      <td>0</td>\n",
       "      <td>10</td>\n",
       "      <td>0</td>\n",
       "      <td>2</td>\n",
       "      <td>0</td>\n",
       "      <td>0</td>\n",
       "      <td>7</td>\n",
       "      <td>0</td>\n",
       "      <td>0</td>\n",
       "      <td>...</td>\n",
       "      <td>255</td>\n",
       "      <td>255</td>\n",
       "      <td>230</td>\n",
       "      <td>246</td>\n",
       "      <td>255</td>\n",
       "      <td>188</td>\n",
       "      <td>129</td>\n",
       "      <td>20</td>\n",
       "      <td>10</td>\n",
       "      <td>13</td>\n",
       "    </tr>\n",
       "    <tr>\n",
       "      <th>3762</th>\n",
       "      <td>0</td>\n",
       "      <td>0</td>\n",
       "      <td>0</td>\n",
       "      <td>0</td>\n",
       "      <td>0</td>\n",
       "      <td>0</td>\n",
       "      <td>0</td>\n",
       "      <td>0</td>\n",
       "      <td>0</td>\n",
       "      <td>0</td>\n",
       "      <td>...</td>\n",
       "      <td>247</td>\n",
       "      <td>233</td>\n",
       "      <td>222</td>\n",
       "      <td>198</td>\n",
       "      <td>180</td>\n",
       "      <td>153</td>\n",
       "      <td>174</td>\n",
       "      <td>136</td>\n",
       "      <td>88</td>\n",
       "      <td>33</td>\n",
       "    </tr>\n",
       "    <tr>\n",
       "      <th>3763</th>\n",
       "      <td>255</td>\n",
       "      <td>255</td>\n",
       "      <td>255</td>\n",
       "      <td>255</td>\n",
       "      <td>255</td>\n",
       "      <td>255</td>\n",
       "      <td>255</td>\n",
       "      <td>255</td>\n",
       "      <td>255</td>\n",
       "      <td>255</td>\n",
       "      <td>...</td>\n",
       "      <td>255</td>\n",
       "      <td>255</td>\n",
       "      <td>255</td>\n",
       "      <td>255</td>\n",
       "      <td>235</td>\n",
       "      <td>251</td>\n",
       "      <td>177</td>\n",
       "      <td>103</td>\n",
       "      <td>2</td>\n",
       "      <td>0</td>\n",
       "    </tr>\n",
       "  </tbody>\n",
       "</table>\n",
       "<p>3764 rows × 2500 columns</p>\n",
       "</div>"
      ],
      "text/plain": [
       "      0     1     2     3     4     5     6     7     8     9     ...  2490  \\\n",
       "0        0     0     0     0     0     0     0    15    30    41  ...   191   \n",
       "1        0     6    13    14    20    23    28    31    42    43  ...   177   \n",
       "2        0     0     0     0     0     0     0     0     0     0  ...   198   \n",
       "3        0     0     0     0     0     0     0     0     0     0  ...   208   \n",
       "4        0     0     0     0     0    43    69    95   110   127  ...   225   \n",
       "...    ...   ...   ...   ...   ...   ...   ...   ...   ...   ...  ...   ...   \n",
       "3759     0     0     0     0     0     0    46   225   234    48  ...   233   \n",
       "3760     0     0     0     0     0     0     0     0     0     0  ...   242   \n",
       "3761     0     0    10     0     2     0     0     7     0     0  ...   255   \n",
       "3762     0     0     0     0     0     0     0     0     0     0  ...   247   \n",
       "3763   255   255   255   255   255   255   255   255   255   255  ...   255   \n",
       "\n",
       "      2491  2492  2493  2494  2495  2496  2497  2498  2499  \n",
       "0      189   187   179   174   167   170   155   132   136  \n",
       "1      175   179   166   163   166   149   141   149   141  \n",
       "2      196   186   184   159   142    93    97    78   194  \n",
       "3      207   205   190   197   180   159   132    87    40  \n",
       "4      224   217   214   208   204   197   192   187   182  \n",
       "...    ...   ...   ...   ...   ...   ...   ...   ...   ...  \n",
       "3759   240   248   219   232   185   126    83    16     0  \n",
       "3760   245   231   225   210   193   180   153    98    68  \n",
       "3761   255   230   246   255   188   129    20    10    13  \n",
       "3762   233   222   198   180   153   174   136    88    33  \n",
       "3763   255   255   255   235   251   177   103     2     0  \n",
       "\n",
       "[3764 rows x 2500 columns]"
      ]
     },
     "execution_count": 6,
     "metadata": {},
     "output_type": "execute_result"
    }
   ],
   "source": [
    "#check X\n",
    "X"
   ]
  },
  {
   "cell_type": "code",
   "execution_count": 7,
   "metadata": {},
   "outputs": [
    {
     "data": {
      "text/plain": [
       "0       1\n",
       "1       1\n",
       "2       1\n",
       "3       1\n",
       "4       1\n",
       "       ..\n",
       "3759    0\n",
       "3760    0\n",
       "3761    0\n",
       "3762    0\n",
       "3763    0\n",
       "Name: Test, Length: 3764, dtype: int64"
      ]
     },
     "execution_count": 7,
     "metadata": {},
     "output_type": "execute_result"
    }
   ],
   "source": [
    "#check y\n",
    "y"
   ]
  },
  {
   "cell_type": "code",
   "execution_count": 8,
   "metadata": {},
   "outputs": [
    {
     "data": {
      "text/plain": [
       "Text(0.5, 1.0, 'Average Pixel Distribution')"
      ]
     },
     "execution_count": 8,
     "metadata": {},
     "output_type": "execute_result"
    },
    {
     "data": {
      "image/png": "[encoded data removed]",
      "text/plain": [
       "<Figure size 432x288 with 1 Axes>"
      ]
     },
     "metadata": {
      "needs_background": "light"
     },
     "output_type": "display_data"
    }
   ],
   "source": [
    "#Let's check the difference in pixel distribution after processing\n",
    "X.loc[paths[\"Test\"] == 0, :].mean().transpose().hist(bins = 20, alpha=0.7, label='Non-Covid')\n",
    "X.loc[paths[\"Test\"] == 1, :].mean().transpose().hist(bins = 20, alpha=0.7, label='Covid')\n",
    "plt.xlabel(\"Average Grayscale value\")\n",
    "plt.ylabel(\"Frequency of value\")\n",
    "plt.legend(loc='upper right')\n",
    "plt.title(\"Average Pixel Distribution\")"
   ]
  },
  {
   "cell_type": "code",
   "execution_count": 9,
   "metadata": {},
   "outputs": [],
   "source": [
    "#Train/test split\n",
    "X_train, X_test, y_train, y_test = sklearn.model_selection.train_test_split(X,y, train_size=.8, random_state=0)"
   ]
  },
  {
   "cell_type": "code",
   "execution_count": 10,
   "metadata": {},
   "outputs": [],
   "source": [
    "from sklearn.preprocessing import StandardScaler\n",
    "\n",
    "std_scaler = StandardScaler()\n",
    "\n",
    "#Normalize X using mean normalization. Minmax could partly negate the difference we've introduced earlier.\n",
    "X_norm = std_scaler.fit_transform(X_train)\n",
    "X_test = std_scaler.transform(X_test)"
   ]
  },
  {
   "cell_type": "code",
   "execution_count": 11,
   "metadata": {},
   "outputs": [],
   "source": [
    "#Imbalanced Data, Solve with Random Over Sampling Technique\n",
    "from imblearn.over_sampling import RandomOverSampler\n",
    "\n",
    "ros = RandomOverSampler(random_state = 3)\n",
    "\n",
    "#In this current setup, oversampling reduces the number of False Negatives.\n",
    "X_train,y_train = ros.fit_resample(X_norm,y_train)"
   ]
  },
  {
   "cell_type": "code",
   "execution_count": 12,
   "metadata": {},
   "outputs": [],
   "source": [
    "#create dataframes to plot changes in distribution\n",
    "normalized_X = pd.DataFrame(data = X_train)\n",
    "normalized_y = pd.DataFrame(data = y_train)"
   ]
  },
  {
   "cell_type": "code",
   "execution_count": 13,
   "metadata": {},
   "outputs": [
    {
     "data": {
      "text/plain": [
       "Text(0.5, 1.0, 'Average Feature Distribution')"
      ]
     },
     "execution_count": 13,
     "metadata": {},
     "output_type": "execute_result"
    },
    {
     "data": {
      "image/png": "[encoded data removed]",
      "text/plain": [
       "<Figure size 432x288 with 1 Axes>"
      ]
     },
     "metadata": {
      "needs_background": "light"
     },
     "output_type": "display_data"
    }
   ],
   "source": [
    "#Let's check the difference in feature distribution after normalization\n",
    "normalized_X.loc[normalized_y[\"Test\"] == 0, :].mean().transpose().hist(bins = 20, alpha=0.7, label='Non-Covid')\n",
    "normalized_X.loc[normalized_y[\"Test\"] == 1, :].mean().transpose().hist(bins = 20, alpha=0.7, label='Covid')\n",
    "\n",
    "plt.xlabel(\"normalized Grayscale value\")\n",
    "plt.ylabel(\"Frequency of value\")\n",
    "plt.legend(loc='upper right')\n",
    "plt.title(\"Average Feature Distribution\")"
   ]
  },
  {
   "cell_type": "code",
   "execution_count": 14,
   "metadata": {},
   "outputs": [
    {
     "data": {
      "text/plain": [
       "Text(0.5, 1.0, 'Average Distribution of Features')"
      ]
     },
     "execution_count": 14,
     "metadata": {},
     "output_type": "execute_result"
    },
    {
     "data": {
      "image/png": "[encoded data removed]",
      "text/plain": [
       "<Figure size 432x288 with 1 Axes>"
      ]
     },
     "metadata": {
      "needs_background": "light"
     },
     "output_type": "display_data"
    }
   ],
   "source": [
    "normalized_X.loc[normalized_y[\"Test\"] == 0, :].mean().transpose().hist(bins = 20, alpha=0.7, label='Non-Covid')\n",
    "plt.xlabel(\"normalized Grayscale value\")\n",
    "plt.ylabel(\"Frequency of value\")\n",
    "plt.title(\"Average Distribution of Features\")"
   ]
  },
  {
   "cell_type": "code",
   "execution_count": 15,
   "metadata": {},
   "outputs": [
    {
     "data": {
      "text/plain": [
       "Text(0.5, 1.0, 'Average Distribution of Pixels')"
      ]
     },
     "execution_count": 15,
     "metadata": {},
     "output_type": "execute_result"
    },
    {
     "data": {
      "image/png": "[encoded data removed]",
      "text/plain": [
       "<Figure size 432x288 with 1 Axes>"
      ]
     },
     "metadata": {
      "needs_background": "light"
     },
     "output_type": "display_data"
    }
   ],
   "source": [
    "X.loc[paths[\"Test\"] == 0, :].mean().transpose().hist(bins = 20, alpha=0.7, label='Non-Covid')\n",
    "plt.xlabel(\"Grayscale value\")\n",
    "plt.ylabel(\"Frequency of value\")\n",
    "plt.title(\"Average Distribution of Pixels\")"
   ]
  },
  {
   "cell_type": "code",
   "execution_count": 16,
   "metadata": {},
   "outputs": [],
   "source": [
    "from sklearn.naive_bayes import BernoulliNB\n",
    "import sklearn.metrics as sk_mtrx\n",
    "\n",
    "#train the model\n",
    "clf = BernoulliNB()\n",
    "clf.fit(normalized_X, y_train)\n",
    "y_score_test = clf.predict(X_test)"
   ]
  },
  {
   "cell_type": "code",
   "execution_count": 17,
   "metadata": {},
   "outputs": [
    {
     "name": "stdout",
     "output_type": "stream",
     "text": [
      "test set:\n",
      "recall score:\t\t[0.97632312 0.91428571]\n",
      "balanced accuracy score: 0.9453044170314365\n",
      " confusion matrix:\n",
      "[[701  17]\n",
      " [  3  32]]\n",
      "f1 score: \t\t0.7619047619047618\n"
     ]
    },
    {
     "data": {
      "image/png": "[encoded data removed]",
      "text/plain": [
       "<Figure size 432x288 with 1 Axes>"
      ]
     },
     "metadata": {
      "needs_background": "light"
     },
     "output_type": "display_data"
    }
   ],
   "source": [
    "\n",
    "#metrics we are interested in\n",
    "#for this model we are particularly interested in maximizing recall at the detriment of precision\n",
    "recall = sk_mtrx.recall_score(y_test, y_score_test, average = None)\n",
    "bal_acc = sk_mtrx.balanced_accuracy_score(y_test,y_score_test)\n",
    "conf = sk_mtrx.confusion_matrix(y_test, y_score_test)\n",
    "f1 = sk_mtrx.f1_score(y_test, y_score_test)\n",
    "\n",
    "\n",
    "print(\"test set:\")\n",
    "print((\"recall score:\\t\\t{0}\\nbalanced accuracy score: {1}\\n confusion matrix:\\n{2}\\n\"+\n",
    "\"f1 score: \\t\\t{3}\").format(recall, bal_acc, conf,f1))\n",
    "\n",
    "\n",
    "sk_mtrx.plot_roc_curve(clf, X_test, y_test)\n",
    "plt.title(\"MultinomialNB ROC-AUC curve\")\n",
    "plt.grid()"
   ]
  },
  {
   "cell_type": "markdown",
   "metadata": {},
   "source": [
    "## Let's try our model on pictures!\n",
    "### Feel free to load your own pictures on the last line"
   ]
  },
  {
   "cell_type": "code",
   "execution_count": 18,
   "metadata": {},
   "outputs": [],
   "source": [
    "cov = \"Demo\\\\covid-demo.jpg\"\n",
    "non = \"Demo\\\\normal-demo.jpg\""
   ]
  },
  {
   "cell_type": "code",
   "execution_count": 19,
   "metadata": {},
   "outputs": [],
   "source": [
    "def test_model(path):\n",
    "    pic = Image.open(path)\n",
    "    resized = pic.resize((50, 50), Image.NEAREST)\n",
    "    sharpened = ImageEnhance.Sharpness(resized).enhance(2.0)\n",
    "    contrasted = ImageEnhance.Contrast(sharpened).enhance(1.1)\n",
    "    gray_img = ImageOps.grayscale(contrasted)\n",
    "    covid_pixels = np.asarray(gray_img).flatten()\n",
    "    \n",
    "    pic.close()\n",
    "    covid_pixels = pd.DataFrame(data = covid_pixels).transpose()\n",
    "    covid_pixels = std_scaler.transform(covid_pixels)\n",
    "    if clf.predict(covid_pixels)[0] == 1:\n",
    "        print(\"The patient has covid.\")\n",
    "    else:\n",
    "        print(\"The patient does not have covid.\")"
   ]
  },
  {
   "cell_type": "code",
   "execution_count": 20,
   "metadata": {},
   "outputs": [
    {
     "name": "stdout",
     "output_type": "stream",
     "text": [
      "The patient has covid.\n",
      "The patient does not have covid.\n"
     ]
    }
   ],
   "source": [
    "for pic in [cov,non]:\n",
    "    test_model(pic)"
   ]
  },
  {
   "cell_type": "code",
   "execution_count": 21,
   "metadata": {},
   "outputs": [],
   "source": [
    "#Your turn!\n",
    "#test_model(...)"
   ]
  },
  {
   "cell_type": "code",
   "execution_count": null,
   "metadata": {},
   "outputs": [],
   "source": []
  }
 ],
 "metadata": {
  "kernelspec": {
   "display_name": "Python 3",
   "language": "python",
   "name": "python3"
  },
  "language_info": {
   "codemirror_mode": {
    "name": "ipython",
    "version": 3
   },
   "file_extension": ".py",
   "mimetype": "text/x-python",
   "name": "python",
   "nbconvert_exporter": "python",
   "pygments_lexer": "ipython3",
   "version": "3.8.5"
  }
 },
 "nbformat": 4,
 "nbformat_minor": 4
}
