{
 "cells": [
  {
   "cell_type": "markdown",
   "metadata": {},
   "source": [
    "# Covid X-Ray Diagnosis\n",
    "## Machine Learning Final Project\n",
    "### Enver Kapetanovic & Adrien Ventugol \n",
    "### Group 15"
   ]
  },
  {
   "cell_type": "code",
   "execution_count": 1,
   "metadata": {},
   "outputs": [],
   "source": [
    "from PIL import Image, ImageOps, ImageEnhance\n",
    "import matplotlib.pyplot as plt\n",
    "import pandas as pd \n",
    "import numpy as np\n",
    "import matplotlib.pyplot as plt\n",
    "import pandas as pd \n",
    "import numpy as np\n",
    "import sklearn\n",
    "import imblearn"
   ]
  },
  {
   "cell_type": "code",
   "execution_count": 2,
   "metadata": {},
   "outputs": [],
   "source": [
    "#First import the paths of the pictures that we created with DataProcessor.ipynb\n",
    "paths,paths_org = None,None\n",
    "# Sort by covid result so we can compare the pixel distribution by test value\n",
    "paths = pd.read_csv(\"paths.csv\").sort_values(by = \"Test\", ascending = False).reset_index(drop = True)"
   ]
  },
  {
   "cell_type": "code",
   "execution_count": 3,
   "metadata": {},
   "outputs": [],
   "source": [
    "#initiate the list we will use to first store the pixel data, then pass into the dataframe.\n",
    "pixel_data = []"
   ]
  },
  {
   "cell_type": "code",
   "execution_count": 4,
   "metadata": {},
   "outputs": [],
   "source": [
    "#define a processing function to obtain transformed pixel data from the paths of the images\n",
    "def to_pixel(row):\n",
    "    color_img = Image.open(row[\"image_path\"])\n",
    "    resized = color_img.resize((50, 50), Image.BICUBIC) #Bicubic/Nearest resample give the best results\n",
    "    sharpened = ImageEnhance.Sharpness(resized).enhance(1.5)\n",
    "    contrasted = ImageEnhance.Contrast(sharpened).enhance(1.1)\n",
    "    gray_img = ImageOps.grayscale(contrasted)\n",
    "    pixel_data.append(np.asarray(gray_img).flatten().tolist()) #convert image to numpy array, flatten it, convert to list\n",
    "    color_img.close()\n",
    "    # pixel data now has the complete data of another picture at pixel_data[-1]"
   ]
  },
  {
   "cell_type": "code",
   "execution_count": 5,
   "metadata": {},
   "outputs": [],
   "source": [
    "#apply use the functions as lambdas to apply to all the rows\n",
    "paths.apply(lambda row: to_pixel(row), axis = 1)\n",
    "\n",
    "#Separate Data into X and y\n",
    "y = paths.loc[0:,'Test']\n",
    "X = pd.DataFrame(data = pixel_data)"
   ]
  },
  {
   "cell_type": "code",
   "execution_count": 6,
   "metadata": {},
   "outputs": [
    {
     "data": {
      "text/html": [
       "<div>\n",
       "<style scoped>\n",
       "    .dataframe tbody tr th:only-of-type {\n",
       "        vertical-align: middle;\n",
       "    }\n",
       "\n",
       "    .dataframe tbody tr th {\n",
       "        vertical-align: top;\n",
       "    }\n",
       "\n",
       "    .dataframe thead th {\n",
       "        text-align: right;\n",
       "    }\n",
       "</style>\n",
       "<table border=\"1\" class=\"dataframe\">\n",
       "  <thead>\n",
       "    <tr style=\"text-align: right;\">\n",
       "      <th></th>\n",
       "      <th>image_path</th>\n",
       "      <th>Test</th>\n",
       "    </tr>\n",
       "  </thead>\n",
       "  <tbody>\n",
       "    <tr>\n",
       "      <th>184</th>\n",
       "      <td>data_upload_v2/test/non/No_Finding/patient0822...</td>\n",
       "      <td>0</td>\n",
       "    </tr>\n",
       "    <tr>\n",
       "      <th>185</th>\n",
       "      <td>data_upload_v2/test/non/No_Finding/patient0823...</td>\n",
       "      <td>0</td>\n",
       "    </tr>\n",
       "    <tr>\n",
       "      <th>186</th>\n",
       "      <td>data_upload_v2/test/non/No_Finding/patient0822...</td>\n",
       "      <td>0</td>\n",
       "    </tr>\n",
       "    <tr>\n",
       "      <th>187</th>\n",
       "      <td>data_upload_v2/test/non/No_Finding/patient0822...</td>\n",
       "      <td>0</td>\n",
       "    </tr>\n",
       "    <tr>\n",
       "      <th>188</th>\n",
       "      <td>data_upload_v2/test/non/No_Finding/patient0821...</td>\n",
       "      <td>0</td>\n",
       "    </tr>\n",
       "    <tr>\n",
       "      <th>189</th>\n",
       "      <td>data_upload_v2/test/non/No_Finding/patient0822...</td>\n",
       "      <td>0</td>\n",
       "    </tr>\n",
       "    <tr>\n",
       "      <th>190</th>\n",
       "      <td>data_upload_v2/test/non/No_Finding/patient0820...</td>\n",
       "      <td>0</td>\n",
       "    </tr>\n",
       "    <tr>\n",
       "      <th>191</th>\n",
       "      <td>data_upload_v2/test/non/No_Finding/patient0820...</td>\n",
       "      <td>0</td>\n",
       "    </tr>\n",
       "    <tr>\n",
       "      <th>192</th>\n",
       "      <td>data_upload_v2/test/non/No_Finding/patient0826...</td>\n",
       "      <td>0</td>\n",
       "    </tr>\n",
       "    <tr>\n",
       "      <th>193</th>\n",
       "      <td>data_upload_v2/test/non/No_Finding/patient0824...</td>\n",
       "      <td>0</td>\n",
       "    </tr>\n",
       "    <tr>\n",
       "      <th>194</th>\n",
       "      <td>data_upload_v2/test/non/No_Finding/patient0831...</td>\n",
       "      <td>0</td>\n",
       "    </tr>\n",
       "    <tr>\n",
       "      <th>195</th>\n",
       "      <td>data_upload_v2/test/non/No_Finding/patient0827...</td>\n",
       "      <td>0</td>\n",
       "    </tr>\n",
       "    <tr>\n",
       "      <th>196</th>\n",
       "      <td>data_upload_v2/test/non/No_Finding/patient0827...</td>\n",
       "      <td>0</td>\n",
       "    </tr>\n",
       "    <tr>\n",
       "      <th>197</th>\n",
       "      <td>data_upload_v2/test/non/No_Finding/patient0829...</td>\n",
       "      <td>0</td>\n",
       "    </tr>\n",
       "    <tr>\n",
       "      <th>198</th>\n",
       "      <td>data_upload_v2/test/non/No_Finding/patient0829...</td>\n",
       "      <td>0</td>\n",
       "    </tr>\n",
       "    <tr>\n",
       "      <th>199</th>\n",
       "      <td>data_upload_v2/test/non/No_Finding/patient0829...</td>\n",
       "      <td>0</td>\n",
       "    </tr>\n",
       "    <tr>\n",
       "      <th>200</th>\n",
       "      <td>data_upload_v2/test/non/No_Finding/patient0829...</td>\n",
       "      <td>0</td>\n",
       "    </tr>\n",
       "    <tr>\n",
       "      <th>201</th>\n",
       "      <td>data_upload_v2/test/non/No_Finding/patient0829...</td>\n",
       "      <td>0</td>\n",
       "    </tr>\n",
       "    <tr>\n",
       "      <th>202</th>\n",
       "      <td>data_upload_v2/test/non/No_Finding/patient0820...</td>\n",
       "      <td>0</td>\n",
       "    </tr>\n",
       "    <tr>\n",
       "      <th>203</th>\n",
       "      <td>data_upload_v2/test/non/No_Finding/patient0833...</td>\n",
       "      <td>0</td>\n",
       "    </tr>\n",
       "    <tr>\n",
       "      <th>204</th>\n",
       "      <td>data_upload_v2/test/non/No_Finding/patient0834...</td>\n",
       "      <td>0</td>\n",
       "    </tr>\n",
       "    <tr>\n",
       "      <th>205</th>\n",
       "      <td>data_upload_v2/test/non/No_Finding/patient0834...</td>\n",
       "      <td>0</td>\n",
       "    </tr>\n",
       "    <tr>\n",
       "      <th>206</th>\n",
       "      <td>data_upload_v2/test/non/No_Finding/patient0820...</td>\n",
       "      <td>0</td>\n",
       "    </tr>\n",
       "    <tr>\n",
       "      <th>207</th>\n",
       "      <td>data_upload_v2/test/non/No_Finding/patient0819...</td>\n",
       "      <td>0</td>\n",
       "    </tr>\n",
       "    <tr>\n",
       "      <th>208</th>\n",
       "      <td>data_upload_v2/test/non/No_Finding/patient0820...</td>\n",
       "      <td>0</td>\n",
       "    </tr>\n",
       "    <tr>\n",
       "      <th>209</th>\n",
       "      <td>data_upload_v2/test/non/No_Finding/patient0812...</td>\n",
       "      <td>0</td>\n",
       "    </tr>\n",
       "    <tr>\n",
       "      <th>210</th>\n",
       "      <td>data_upload_v2/test/non/No_Finding/patient0806...</td>\n",
       "      <td>0</td>\n",
       "    </tr>\n",
       "    <tr>\n",
       "      <th>211</th>\n",
       "      <td>data_upload_v2/test/non/No_Finding/patient0806...</td>\n",
       "      <td>0</td>\n",
       "    </tr>\n",
       "    <tr>\n",
       "      <th>212</th>\n",
       "      <td>data_upload_v2/test/non/No_Finding/patient0808...</td>\n",
       "      <td>0</td>\n",
       "    </tr>\n",
       "    <tr>\n",
       "      <th>213</th>\n",
       "      <td>data_upload_v2/test/non/No_Finding/patient0809...</td>\n",
       "      <td>0</td>\n",
       "    </tr>\n",
       "    <tr>\n",
       "      <th>...</th>\n",
       "      <td>...</td>\n",
       "      <td>...</td>\n",
       "    </tr>\n",
       "    <tr>\n",
       "      <th>3734</th>\n",
       "      <td>data_upload_v2/test/non/No_Finding/patient0190...</td>\n",
       "      <td>0</td>\n",
       "    </tr>\n",
       "    <tr>\n",
       "      <th>3735</th>\n",
       "      <td>data_upload_v2/test/non/No_Finding/patient0175...</td>\n",
       "      <td>0</td>\n",
       "    </tr>\n",
       "    <tr>\n",
       "      <th>3736</th>\n",
       "      <td>data_upload_v2/test/non/No_Finding/patient0175...</td>\n",
       "      <td>0</td>\n",
       "    </tr>\n",
       "    <tr>\n",
       "      <th>3737</th>\n",
       "      <td>data_upload_v2/test/non/No_Finding/patient0174...</td>\n",
       "      <td>0</td>\n",
       "    </tr>\n",
       "    <tr>\n",
       "      <th>3738</th>\n",
       "      <td>data_upload_v2/test/non/No_Finding/patient0164...</td>\n",
       "      <td>0</td>\n",
       "    </tr>\n",
       "    <tr>\n",
       "      <th>3739</th>\n",
       "      <td>data_upload_v2/test/non/No_Finding/patient0158...</td>\n",
       "      <td>0</td>\n",
       "    </tr>\n",
       "    <tr>\n",
       "      <th>3740</th>\n",
       "      <td>data_upload_v2/test/non/No_Finding/patient0158...</td>\n",
       "      <td>0</td>\n",
       "    </tr>\n",
       "    <tr>\n",
       "      <th>3741</th>\n",
       "      <td>data_upload_v2/test/non/No_Finding/patient0159...</td>\n",
       "      <td>0</td>\n",
       "    </tr>\n",
       "    <tr>\n",
       "      <th>3742</th>\n",
       "      <td>data_upload_v2/test/non/No_Finding/patient0159...</td>\n",
       "      <td>0</td>\n",
       "    </tr>\n",
       "    <tr>\n",
       "      <th>3743</th>\n",
       "      <td>data_upload_v2/test/non/No_Finding/patient0160...</td>\n",
       "      <td>0</td>\n",
       "    </tr>\n",
       "    <tr>\n",
       "      <th>3744</th>\n",
       "      <td>data_upload_v2/test/non/No_Finding/patient0160...</td>\n",
       "      <td>0</td>\n",
       "    </tr>\n",
       "    <tr>\n",
       "      <th>3745</th>\n",
       "      <td>data_upload_v2/test/non/No_Finding/patient0161...</td>\n",
       "      <td>0</td>\n",
       "    </tr>\n",
       "    <tr>\n",
       "      <th>3746</th>\n",
       "      <td>data_upload_v2/test/non/No_Finding/patient0161...</td>\n",
       "      <td>0</td>\n",
       "    </tr>\n",
       "    <tr>\n",
       "      <th>3747</th>\n",
       "      <td>data_upload_v2/test/non/No_Finding/patient0162...</td>\n",
       "      <td>0</td>\n",
       "    </tr>\n",
       "    <tr>\n",
       "      <th>3748</th>\n",
       "      <td>data_upload_v2/test/non/No_Finding/patient0162...</td>\n",
       "      <td>0</td>\n",
       "    </tr>\n",
       "    <tr>\n",
       "      <th>3749</th>\n",
       "      <td>data_upload_v2/test/non/No_Finding/patient0164...</td>\n",
       "      <td>0</td>\n",
       "    </tr>\n",
       "    <tr>\n",
       "      <th>3750</th>\n",
       "      <td>data_upload_v2/test/non/No_Finding/patient0165...</td>\n",
       "      <td>0</td>\n",
       "    </tr>\n",
       "    <tr>\n",
       "      <th>3751</th>\n",
       "      <td>data_upload_v2/test/non/No_Finding/patient0173...</td>\n",
       "      <td>0</td>\n",
       "    </tr>\n",
       "    <tr>\n",
       "      <th>3752</th>\n",
       "      <td>data_upload_v2/test/non/No_Finding/patient0166...</td>\n",
       "      <td>0</td>\n",
       "    </tr>\n",
       "    <tr>\n",
       "      <th>3753</th>\n",
       "      <td>data_upload_v2/test/non/No_Finding/patient0167...</td>\n",
       "      <td>0</td>\n",
       "    </tr>\n",
       "    <tr>\n",
       "      <th>3754</th>\n",
       "      <td>data_upload_v2/test/non/No_Finding/patient0168...</td>\n",
       "      <td>0</td>\n",
       "    </tr>\n",
       "    <tr>\n",
       "      <th>3755</th>\n",
       "      <td>data_upload_v2/test/non/No_Finding/patient0168...</td>\n",
       "      <td>0</td>\n",
       "    </tr>\n",
       "    <tr>\n",
       "      <th>3756</th>\n",
       "      <td>data_upload_v2/test/non/No_Finding/patient0169...</td>\n",
       "      <td>0</td>\n",
       "    </tr>\n",
       "    <tr>\n",
       "      <th>3757</th>\n",
       "      <td>data_upload_v2/test/non/No_Finding/patient0169...</td>\n",
       "      <td>0</td>\n",
       "    </tr>\n",
       "    <tr>\n",
       "      <th>3758</th>\n",
       "      <td>data_upload_v2/test/non/No_Finding/patient0170...</td>\n",
       "      <td>0</td>\n",
       "    </tr>\n",
       "    <tr>\n",
       "      <th>3759</th>\n",
       "      <td>data_upload_v2/test/non/No_Finding/patient0171...</td>\n",
       "      <td>0</td>\n",
       "    </tr>\n",
       "    <tr>\n",
       "      <th>3760</th>\n",
       "      <td>data_upload_v2/test/non/No_Finding/patient0171...</td>\n",
       "      <td>0</td>\n",
       "    </tr>\n",
       "    <tr>\n",
       "      <th>3761</th>\n",
       "      <td>data_upload_v2/test/non/No_Finding/patient0173...</td>\n",
       "      <td>0</td>\n",
       "    </tr>\n",
       "    <tr>\n",
       "      <th>3762</th>\n",
       "      <td>data_upload_v2/test/non/No_Finding/patient0173...</td>\n",
       "      <td>0</td>\n",
       "    </tr>\n",
       "    <tr>\n",
       "      <th>3763</th>\n",
       "      <td>data_upload_v2/train/non/Support Devices-patie...</td>\n",
       "      <td>0</td>\n",
       "    </tr>\n",
       "  </tbody>\n",
       "</table>\n",
       "<p>3580 rows × 2 columns</p>\n",
       "</div>"
      ],
      "text/plain": [
       "                                             image_path  Test\n",
       "184   data_upload_v2/test/non/No_Finding/patient0822...     0\n",
       "185   data_upload_v2/test/non/No_Finding/patient0823...     0\n",
       "186   data_upload_v2/test/non/No_Finding/patient0822...     0\n",
       "187   data_upload_v2/test/non/No_Finding/patient0822...     0\n",
       "188   data_upload_v2/test/non/No_Finding/patient0821...     0\n",
       "189   data_upload_v2/test/non/No_Finding/patient0822...     0\n",
       "190   data_upload_v2/test/non/No_Finding/patient0820...     0\n",
       "191   data_upload_v2/test/non/No_Finding/patient0820...     0\n",
       "192   data_upload_v2/test/non/No_Finding/patient0826...     0\n",
       "193   data_upload_v2/test/non/No_Finding/patient0824...     0\n",
       "194   data_upload_v2/test/non/No_Finding/patient0831...     0\n",
       "195   data_upload_v2/test/non/No_Finding/patient0827...     0\n",
       "196   data_upload_v2/test/non/No_Finding/patient0827...     0\n",
       "197   data_upload_v2/test/non/No_Finding/patient0829...     0\n",
       "198   data_upload_v2/test/non/No_Finding/patient0829...     0\n",
       "199   data_upload_v2/test/non/No_Finding/patient0829...     0\n",
       "200   data_upload_v2/test/non/No_Finding/patient0829...     0\n",
       "201   data_upload_v2/test/non/No_Finding/patient0829...     0\n",
       "202   data_upload_v2/test/non/No_Finding/patient0820...     0\n",
       "203   data_upload_v2/test/non/No_Finding/patient0833...     0\n",
       "204   data_upload_v2/test/non/No_Finding/patient0834...     0\n",
       "205   data_upload_v2/test/non/No_Finding/patient0834...     0\n",
       "206   data_upload_v2/test/non/No_Finding/patient0820...     0\n",
       "207   data_upload_v2/test/non/No_Finding/patient0819...     0\n",
       "208   data_upload_v2/test/non/No_Finding/patient0820...     0\n",
       "209   data_upload_v2/test/non/No_Finding/patient0812...     0\n",
       "210   data_upload_v2/test/non/No_Finding/patient0806...     0\n",
       "211   data_upload_v2/test/non/No_Finding/patient0806...     0\n",
       "212   data_upload_v2/test/non/No_Finding/patient0808...     0\n",
       "213   data_upload_v2/test/non/No_Finding/patient0809...     0\n",
       "...                                                 ...   ...\n",
       "3734  data_upload_v2/test/non/No_Finding/patient0190...     0\n",
       "3735  data_upload_v2/test/non/No_Finding/patient0175...     0\n",
       "3736  data_upload_v2/test/non/No_Finding/patient0175...     0\n",
       "3737  data_upload_v2/test/non/No_Finding/patient0174...     0\n",
       "3738  data_upload_v2/test/non/No_Finding/patient0164...     0\n",
       "3739  data_upload_v2/test/non/No_Finding/patient0158...     0\n",
       "3740  data_upload_v2/test/non/No_Finding/patient0158...     0\n",
       "3741  data_upload_v2/test/non/No_Finding/patient0159...     0\n",
       "3742  data_upload_v2/test/non/No_Finding/patient0159...     0\n",
       "3743  data_upload_v2/test/non/No_Finding/patient0160...     0\n",
       "3744  data_upload_v2/test/non/No_Finding/patient0160...     0\n",
       "3745  data_upload_v2/test/non/No_Finding/patient0161...     0\n",
       "3746  data_upload_v2/test/non/No_Finding/patient0161...     0\n",
       "3747  data_upload_v2/test/non/No_Finding/patient0162...     0\n",
       "3748  data_upload_v2/test/non/No_Finding/patient0162...     0\n",
       "3749  data_upload_v2/test/non/No_Finding/patient0164...     0\n",
       "3750  data_upload_v2/test/non/No_Finding/patient0165...     0\n",
       "3751  data_upload_v2/test/non/No_Finding/patient0173...     0\n",
       "3752  data_upload_v2/test/non/No_Finding/patient0166...     0\n",
       "3753  data_upload_v2/test/non/No_Finding/patient0167...     0\n",
       "3754  data_upload_v2/test/non/No_Finding/patient0168...     0\n",
       "3755  data_upload_v2/test/non/No_Finding/patient0168...     0\n",
       "3756  data_upload_v2/test/non/No_Finding/patient0169...     0\n",
       "3757  data_upload_v2/test/non/No_Finding/patient0169...     0\n",
       "3758  data_upload_v2/test/non/No_Finding/patient0170...     0\n",
       "3759  data_upload_v2/test/non/No_Finding/patient0171...     0\n",
       "3760  data_upload_v2/test/non/No_Finding/patient0171...     0\n",
       "3761  data_upload_v2/test/non/No_Finding/patient0173...     0\n",
       "3762  data_upload_v2/test/non/No_Finding/patient0173...     0\n",
       "3763  data_upload_v2/train/non/Support Devices-patie...     0\n",
       "\n",
       "[3580 rows x 2 columns]"
      ]
     },
     "execution_count": 6,
     "metadata": {},
     "output_type": "execute_result"
    }
   ],
   "source": [
    "#check y\n",
    "paths.loc[paths[\"Test\"] == 0]"
   ]
  },
  {
   "cell_type": "code",
   "execution_count": 7,
   "metadata": {},
   "outputs": [
    {
     "data": {
      "text/plain": [
       "<matplotlib.axes._subplots.AxesSubplot at 0x1a33b6864e0>"
      ]
     },
     "execution_count": 7,
     "metadata": {},
     "output_type": "execute_result"
    },
    {
     "data": {
      "image/png": "[encoded data removed]",
      "text/plain": [
       "<Figure size 432x288 with 1 Axes>"
      ]
     },
     "metadata": {
      "needs_background": "light"
     },
     "output_type": "display_data"
    }
   ],
   "source": [
    "# rows 184 to 3763 contain the non-covid samples\n",
    "#Let's check the difference in pixel distribution after processing\n",
    "X.loc[184:3763, :].mean().transpose().hist(bins = 50)"
   ]
  },
  {
   "cell_type": "code",
   "execution_count": 8,
   "metadata": {},
   "outputs": [
    {
     "data": {
      "text/plain": [
       "<matplotlib.axes._subplots.AxesSubplot at 0x1a33fa4f780>"
      ]
     },
     "execution_count": 8,
     "metadata": {},
     "output_type": "execute_result"
    },
    {
     "data": {
      "image/png": "[encoded data removed]",
      "text/plain": [
       "<Figure size 432x288 with 1 Axes>"
      ]
     },
     "metadata": {
      "needs_background": "light"
     },
     "output_type": "display_data"
    }
   ],
   "source": [
    "X.loc[0:183, :].mean().transpose().hist(bins = 50)"
   ]
  },
  {
   "cell_type": "code",
   "execution_count": 9,
   "metadata": {},
   "outputs": [
    {
     "data": {
      "text/plain": [
       "<matplotlib.axes._subplots.AxesSubplot at 0x1a33fb94a58>"
      ]
     },
     "execution_count": 9,
     "metadata": {},
     "output_type": "execute_result"
    },
    {
     "data": {
      "image/png": "[encoded data removed]",
      "text/plain": [
       "<Figure size 432x288 with 1 Axes>"
      ]
     },
     "metadata": {
      "needs_background": "light"
     },
     "output_type": "display_data"
    }
   ],
   "source": [
    "X.loc[184:3763, :].mean().transpose().hist(bins = 50)\n",
    "X.loc[0:183, :].mean().transpose().hist(bins = 50)"
   ]
  },
  {
   "cell_type": "code",
   "execution_count": 10,
   "metadata": {},
   "outputs": [],
   "source": [
    "#Most of the difference is situated in the number of pixels from ~~20 to ~~100 and ~~220 to ~~250\n",
    "#Train/test split\n",
    "X_train, X_test, y_train, y_test = sklearn.model_selection.train_test_split(X,y, train_size=.8, random_state=0)"
   ]
  },
  {
   "cell_type": "code",
   "execution_count": 11,
   "metadata": {},
   "outputs": [
    {
     "data": {
      "text/plain": [
       "array([[ 1.05711657, -0.48126685, -0.49319407, ..., -0.05009236,\n",
       "        -0.53372571, -0.58654339],\n",
       "       [-0.52741182, -0.48126685, -0.49319407, ..., -0.96322973,\n",
       "        -0.81565926, -0.53137143],\n",
       "       [-0.37650435, -0.37471735, -0.40743357, ..., -0.82749309,\n",
       "        -0.81565926, -0.47619946],\n",
       "       ...,\n",
       "       [-0.54627525, -0.48126685, -0.49319407, ..., -0.96322973,\n",
       "        -0.81565926, -0.75205928],\n",
       "       [-0.54627525, -0.48126685, -0.49319407, ..., -0.76579462,\n",
       "        -0.61427815, -0.64171535],\n",
       "       [-0.54627525, -0.48126685, -0.49319407, ...,  0.0362855 ,\n",
       "        -0.48002408, -0.75205928]])"
      ]
     },
     "execution_count": 11,
     "metadata": {},
     "output_type": "execute_result"
    }
   ],
   "source": [
    "from sklearn.preprocessing import StandardScaler\n",
    "\n",
    "std_scaler = StandardScaler()\n",
    "\n",
    "#Normalize X using mean normalization. Minmax could partly negate the difference we've introduced earlier.\n",
    "X_norm = std_scaler.fit_transform(X_train)\n",
    "X_test = std_scaler.transform(X_test)\n",
    "\n",
    "X_norm"
   ]
  },
  {
   "cell_type": "code",
   "execution_count": 12,
   "metadata": {},
   "outputs": [
    {
     "data": {
      "text/plain": [
       "<matplotlib.axes._subplots.AxesSubplot at 0x1a33fcd4630>"
      ]
     },
     "execution_count": 12,
     "metadata": {},
     "output_type": "execute_result"
    },
    {
     "data": {
      "image/png": "[encoded data removed]",
      "text/plain": [
       "<Figure size 432x288 with 1 Axes>"
      ]
     },
     "metadata": {
      "needs_background": "light"
     },
     "output_type": "display_data"
    }
   ],
   "source": [
    "#Imbalanced Data, Solve with Random Over Sampling Technique\n",
    "from imblearn.over_sampling import RandomOverSampler\n",
    "\n",
    "ros = RandomOverSampler(random_state = 3)\n",
    "\n",
    "#In this current setup, oversampling reduces the number of False Negatives.\n",
    "X_train,y_train = ros.fit_resample(X_norm,y_train)\n",
    "y_train.hist()"
   ]
  },
  {
   "cell_type": "code",
   "execution_count": 13,
   "metadata": {},
   "outputs": [],
   "source": [
    "from sklearn.naive_bayes import BernoulliNB\n",
    "import sklearn.metrics as sk_mtrx"
   ]
  },
  {
   "cell_type": "code",
   "execution_count": 14,
   "metadata": {},
   "outputs": [
    {
     "data": {
      "text/plain": [
       "BernoulliNB()"
      ]
     },
     "execution_count": 14,
     "metadata": {},
     "output_type": "execute_result"
    }
   ],
   "source": [
    "#train the model\n",
    "clf = BernoulliNB()\n",
    "clf.fit(X_train, y_train)"
   ]
  },
  {
   "cell_type": "code",
   "execution_count": 15,
   "metadata": {},
   "outputs": [
    {
     "name": "stdout",
     "output_type": "stream",
     "text": [
      "test set:\n",
      "recall score:\t\t[0.97357441 0.85294118]\n",
      "balanced accuracy score: 0.91325779268592\n",
      " confusion matrix:\n",
      "[[700  19]\n",
      " [  5  29]]\n",
      "f1 score: \t\t0.7073170731707317\n"
     ]
    },
    {
     "data": {
      "image/png": "[encoded data removed]",
      "text/plain": [
       "<Figure size 432x288 with 1 Axes>"
      ]
     },
     "metadata": {
      "needs_background": "light"
     },
     "output_type": "display_data"
    }
   ],
   "source": [
    "y_score_test = clf.predict(X_test)\n",
    "#metrics we are interested in\n",
    "av_prec = sk_mtrx.average_precision_score(y_test, y_score_test)\n",
    "\n",
    "#for this model we are particularly interested in maximizing recall at the detriment of precision\n",
    "recall = sk_mtrx.recall_score(y_test, y_score_test, average = None)\n",
    "bal_acc = sk_mtrx.balanced_accuracy_score(y_test,y_score_test)\n",
    "conf = sk_mtrx.confusion_matrix(y_test, y_score_test)\n",
    "f1 = sk_mtrx.f1_score(y_test, y_score_test)\n",
    "\n",
    "\n",
    "print(\"test set:\")\n",
    "print((\"recall score:\\t\\t{0}\\nbalanced accuracy score: {1}\\n confusion matrix:\\n{2}\\n\"+\n",
    "\"f1 score: \\t\\t{3}\").format(recall, bal_acc, conf,f1))\n",
    "\n",
    "\n",
    "sk_mtrx.plot_roc_curve(clf, X_test, y_test)\n",
    "plt.grid()"
   ]
  },
  {
   "cell_type": "code",
   "execution_count": 16,
   "metadata": {},
   "outputs": [
    {
     "data": {
      "text/plain": [
       "Text(0.5, 1.0, '2-class Precision-Recall curve:Average Precision =0.52')"
      ]
     },
     "execution_count": 16,
     "metadata": {},
     "output_type": "execute_result"
    },
    {
     "data": {
      "image/png": "[encoded data removed]",
      "text/plain": [
       "<Figure size 432x288 with 1 Axes>"
      ]
     },
     "metadata": {
      "needs_background": "light"
     },
     "output_type": "display_data"
    }
   ],
   "source": [
    "disp = sk_mtrx.plot_precision_recall_curve(clf, X_test, y_test)\n",
    "disp.ax_.set_title('2-class Precision-Recall curve:Average Precision ={0:0.2f}'.format(av_prec))"
   ]
  },
  {
   "cell_type": "markdown",
   "metadata": {},
   "source": [
    "## Let's try our model on pictures!\n",
    "### Feel free to load your own pictures on the last line"
   ]
  },
  {
   "cell_type": "code",
   "execution_count": 17,
   "metadata": {},
   "outputs": [],
   "source": [
    "cov = \"Demo\\\\covid-demo.jpg\"\n",
    "non = \"Demo\\\\normal-demo.jpg\""
   ]
  },
  {
   "cell_type": "code",
   "execution_count": 18,
   "metadata": {},
   "outputs": [],
   "source": [
    "def test_model(path):\n",
    "    pic = Image.open(path)\n",
    "    pic.show()\n",
    "    resized = pic.resize((50, 50), Image.BICUBIC)\n",
    "    sharpened = ImageEnhance.Sharpness(resized).enhance(1.5)\n",
    "    contrasted = ImageEnhance.Contrast(sharpened).enhance(1.1)\n",
    "    gray_img = ImageOps.grayscale(contrasted)\n",
    "    covid_pixels = np.asarray(gray_img).flatten()\n",
    "    pic.close()\n",
    "    covid_pixels = pd.DataFrame(data = covid_pixels).transpose()\n",
    "    covid_pixels = std_scaler.transform(covid_pixels)\n",
    "    if clf.predict(covid_pixels)[0] == 1:\n",
    "        print(\"The patient has covid.\")\n",
    "    else:\n",
    "        print(\"The patient does not have covid.\")"
   ]
  },
  {
   "cell_type": "code",
   "execution_count": 19,
   "metadata": {},
   "outputs": [
    {
     "name": "stdout",
     "output_type": "stream",
     "text": [
      "The patient has covid.\n",
      "The patient does not have covid.\n"
     ]
    }
   ],
   "source": [
    "for pic in [cov,non]:\n",
    "    test_model(pic)"
   ]
  },
  {
   "cell_type": "code",
   "execution_count": 21,
   "metadata": {},
   "outputs": [],
   "source": [
    "#Your turn!\n",
    "#test_model(...)"
   ]
  },
  {
   "cell_type": "code",
   "execution_count": null,
   "metadata": {},
   "outputs": [],
   "source": []
  }
 ],
 "metadata": {
  "kernelspec": {
   "display_name": "Python 3",
   "language": "python",
   "name": "python3"
  },
  "language_info": {
   "codemirror_mode": {
    "name": "ipython",
    "version": 3
   },
   "file_extension": ".py",
   "mimetype": "text/x-python",
   "name": "python",
   "nbconvert_exporter": "python",
   "pygments_lexer": "ipython3",
   "version": "3.7.3"
  }
 },
 "nbformat": 4,
 "nbformat_minor": 4
}
