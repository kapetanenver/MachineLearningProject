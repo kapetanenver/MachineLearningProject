{
 "cells": [
  {
   "cell_type": "markdown",
   "metadata": {},
   "source": [
    "# Covid X-Ray Diagnosis\n",
    "## Machine Learning Final Project\n",
    "### Enver Kapetanovic & Adrien Ventugol \n",
    "### Group 15"
   ]
  },
  {
   "cell_type": "code",
   "execution_count": 3,
   "metadata": {},
   "outputs": [],
   "source": [
    "from os import listdir\n",
    "from matplotlib import image\n",
    "import pandas as pd \n",
    "import numpy as np"
   ]
  },
  {
   "cell_type": "code",
   "execution_count": 4,
   "metadata": {},
   "outputs": [],
   "source": [
    "#converts RGB to Gray scale\n",
    "def rgb2gray(rgb):\n",
    "    return np.dot(rgb[...,:3], [0.299, 0.587, 0.144])"
   ]
  },
  {
   "cell_type": "code",
   "execution_count": 5,
   "metadata": {},
   "outputs": [],
   "source": [
    "#Import images \n",
    "loaded_images = pd.DataFrame(columns=['File name','Data', 'Tested'])\n",
    "positive = 1\n",
    "negative = 0\n",
    "for j in ['covid', 'non']:\n",
    "    for filename in listdir('/Users/Enver/Desktop/ML Project/data_upload_v2/train/' + j):\n",
    "        img_data = image.imread('/Users/Enver/Desktop/ML Project/data_upload_v2/train/'+ j +'/' + filename)\n",
    "        img_data = img_data\n",
    "    # store loaded image\n",
    "        if j == 'covid':\n",
    "            loaded_images = loaded_images.append({'File name':filename, 'Data':rgb2gray(img_data), 'Tested':positive},ignore_index=True)\n",
    "        else:\n",
    "            loaded_images = loaded_images.append({'File name':filename, 'Data':img_data, 'Tested': negative},ignore_index=True)\n",
    "#        print('> loaded %s %s' % (filename, img_data.shape))"
   ]
  },
  {
   "cell_type": "code",
   "execution_count": 6,
   "metadata": {},
   "outputs": [
    {
     "data": {
      "text/html": [
       "<div>\n",
       "<style scoped>\n",
       "    .dataframe tbody tr th:only-of-type {\n",
       "        vertical-align: middle;\n",
       "    }\n",
       "\n",
       "    .dataframe tbody tr th {\n",
       "        vertical-align: top;\n",
       "    }\n",
       "\n",
       "    .dataframe thead th {\n",
       "        text-align: right;\n",
       "    }\n",
       "</style>\n",
       "<table border=\"1\" class=\"dataframe\">\n",
       "  <thead>\n",
       "    <tr style=\"text-align: right;\">\n",
       "      <th></th>\n",
       "      <th>File name</th>\n",
       "      <th>Data</th>\n",
       "      <th>Tested</th>\n",
       "    </tr>\n",
       "  </thead>\n",
       "  <tbody>\n",
       "    <tr>\n",
       "      <th>0</th>\n",
       "      <td>covid-19-pneumonia-22-day2-pa.png</td>\n",
       "      <td>[[0.0, 0.0, 0.0, 0.0, 0.0, 0.0, 0.0, 0.0, 0.0,...</td>\n",
       "      <td>1</td>\n",
       "    </tr>\n",
       "    <tr>\n",
       "      <th>1</th>\n",
       "      <td>8FDE8DBA-CFBD-4B4C-B1A4-6F36A93B7E87.jpeg</td>\n",
       "      <td>[[1.0299999999999998, 1.0299999999999998, 1.02...</td>\n",
       "      <td>1</td>\n",
       "    </tr>\n",
       "    <tr>\n",
       "      <th>2</th>\n",
       "      <td>extubation-8.jpg</td>\n",
       "      <td>[[21.342, 23.402, 25.461999999999996, 25.46199...</td>\n",
       "      <td>1</td>\n",
       "    </tr>\n",
       "    <tr>\n",
       "      <th>3</th>\n",
       "      <td>figure1-5e7c1b8d98c29ab001275405-98.jpeg</td>\n",
       "      <td>[[245.14, 249.26, 242.04999999999998, 242.0499...</td>\n",
       "      <td>1</td>\n",
       "    </tr>\n",
       "    <tr>\n",
       "      <th>4</th>\n",
       "      <td>31BA3780-2323-493F-8AED-62081B9C383B.jpeg</td>\n",
       "      <td>[[1.0299999999999998, 1.0299999999999998, 1.02...</td>\n",
       "      <td>1</td>\n",
       "    </tr>\n",
       "    <tr>\n",
       "      <th>...</th>\n",
       "      <td>...</td>\n",
       "      <td>...</td>\n",
       "      <td>...</td>\n",
       "    </tr>\n",
       "    <tr>\n",
       "      <th>659</th>\n",
       "      <td>Pneumonia-patient11586-study2-view1_frontal.jpg</td>\n",
       "      <td>[[4, 4, 3, 3, 2, 2, 1, 1, 1, 0, 1, 0, 0, 0, 6,...</td>\n",
       "      <td>0</td>\n",
       "    </tr>\n",
       "    <tr>\n",
       "      <th>660</th>\n",
       "      <td>No Finding-patient16159-study11-view1_frontal.jpg</td>\n",
       "      <td>[[253, 255, 254, 255, 255, 255, 253, 255, 254,...</td>\n",
       "      <td>0</td>\n",
       "    </tr>\n",
       "    <tr>\n",
       "      <th>661</th>\n",
       "      <td>Enlarged Cardiomediastinum-patient37621-study1...</td>\n",
       "      <td>[[20, 12, 11, 10, 7, 10, 9, 10, 11, 9, 9, 8, 6...</td>\n",
       "      <td>0</td>\n",
       "    </tr>\n",
       "    <tr>\n",
       "      <th>662</th>\n",
       "      <td>Atelectasis-patient56228-study1-view1_frontal.jpg</td>\n",
       "      <td>[[13, 13, 13, 13, 14, 14, 14, 13, 12, 13, 11, ...</td>\n",
       "      <td>0</td>\n",
       "    </tr>\n",
       "    <tr>\n",
       "      <th>663</th>\n",
       "      <td>Lung Lesion-patient22959-study1-view1_frontal.jpg</td>\n",
       "      <td>[[253, 255, 255, 254, 252, 255, 252, 252, 255,...</td>\n",
       "      <td>0</td>\n",
       "    </tr>\n",
       "  </tbody>\n",
       "</table>\n",
       "<p>664 rows × 3 columns</p>\n",
       "</div>"
      ],
      "text/plain": [
       "                                             File name  \\\n",
       "0                    covid-19-pneumonia-22-day2-pa.png   \n",
       "1            8FDE8DBA-CFBD-4B4C-B1A4-6F36A93B7E87.jpeg   \n",
       "2                                     extubation-8.jpg   \n",
       "3             figure1-5e7c1b8d98c29ab001275405-98.jpeg   \n",
       "4            31BA3780-2323-493F-8AED-62081B9C383B.jpeg   \n",
       "..                                                 ...   \n",
       "659    Pneumonia-patient11586-study2-view1_frontal.jpg   \n",
       "660  No Finding-patient16159-study11-view1_frontal.jpg   \n",
       "661  Enlarged Cardiomediastinum-patient37621-study1...   \n",
       "662  Atelectasis-patient56228-study1-view1_frontal.jpg   \n",
       "663  Lung Lesion-patient22959-study1-view1_frontal.jpg   \n",
       "\n",
       "                                                  Data Tested  \n",
       "0    [[0.0, 0.0, 0.0, 0.0, 0.0, 0.0, 0.0, 0.0, 0.0,...      1  \n",
       "1    [[1.0299999999999998, 1.0299999999999998, 1.02...      1  \n",
       "2    [[21.342, 23.402, 25.461999999999996, 25.46199...      1  \n",
       "3    [[245.14, 249.26, 242.04999999999998, 242.0499...      1  \n",
       "4    [[1.0299999999999998, 1.0299999999999998, 1.02...      1  \n",
       "..                                                 ...    ...  \n",
       "659  [[4, 4, 3, 3, 2, 2, 1, 1, 1, 0, 1, 0, 0, 0, 6,...      0  \n",
       "660  [[253, 255, 254, 255, 255, 255, 253, 255, 254,...      0  \n",
       "661  [[20, 12, 11, 10, 7, 10, 9, 10, 11, 9, 9, 8, 6...      0  \n",
       "662  [[13, 13, 13, 13, 14, 14, 14, 13, 12, 13, 11, ...      0  \n",
       "663  [[253, 255, 255, 254, 252, 255, 252, 252, 255,...      0  \n",
       "\n",
       "[664 rows x 3 columns]"
      ]
     },
     "execution_count": 6,
     "metadata": {},
     "output_type": "execute_result"
    }
   ],
   "source": [
    "loaded_images"
   ]
  },
  {
   "cell_type": "code",
   "execution_count": null,
   "metadata": {},
   "outputs": [],
   "source": []
  },
  {
   "cell_type": "code",
   "execution_count": null,
   "metadata": {},
   "outputs": [],
   "source": []
  },
  {
   "cell_type": "code",
   "execution_count": null,
   "metadata": {},
   "outputs": [],
   "source": []
  }
 ],
 "metadata": {
  "kernelspec": {
   "display_name": "Python 3",
   "language": "python",
   "name": "python3"
  },
  "language_info": {
   "codemirror_mode": {
    "name": "ipython",
    "version": 3
   },
   "file_extension": ".py",
   "mimetype": "text/x-python",
   "name": "python",
   "nbconvert_exporter": "python",
   "pygments_lexer": "ipython3",
   "version": "3.7.6"
  }
 },
 "nbformat": 4,
 "nbformat_minor": 4
}
