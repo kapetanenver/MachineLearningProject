{
 "cells": [
  {
   "cell_type": "code",
   "execution_count": 1,
   "metadata": {},
   "outputs": [],
   "source": [
    "from os import listdir\n",
    "from matplotlib import image\n",
    "from PIL import Image, ImageOps\n",
    "import pandas as pd \n",
    "import numpy as np\n",
    "import sklearn"
   ]
  },
  {
   "cell_type": "code",
   "execution_count": 2,
   "metadata": {},
   "outputs": [],
   "source": [
    "paths = []\n",
    "for j in ['test/', 'train/']:\n",
    "    path1 = \"data_upload_v2/\" + j\n",
    "    for i in [\"covid/\", \"non/\"]:\n",
    "        path2 = path1+i\n",
    "        if j == 'test/' and i== \"non/\":\n",
    "            for k  in listdir(path2):\n",
    "                path3 = path2+k\n",
    "                for l in listdir(path3):\n",
    "                    paths.append([path3 + '/' + l, 0])\n",
    "        else:\n",
    "            for k  in listdir(path2):\n",
    "                path3 = path2+k\n",
    "                if i == \"non/\":\n",
    "                    paths.append([path3,0])\n",
    "                else:\n",
    "                    paths.append([path3,1])"
   ]
  },
  {
   "cell_type": "code",
   "execution_count": 3,
   "metadata": {},
   "outputs": [],
   "source": [
    "filenames = pd.DataFrame(data = paths, columns = [\"image_path\",\"Test\"])"
   ]
  },
  {
   "cell_type": "code",
   "execution_count": 4,
   "metadata": {},
   "outputs": [],
   "source": [
    "filenames.to_csv(\"paths.csv\", index=False)"
   ]
  },
  {
   "cell_type": "code",
   "execution_count": 5,
   "metadata": {},
   "outputs": [
    {
     "data": {
      "text/html": [
       "<div>\n",
       "<style scoped>\n",
       "    .dataframe tbody tr th:only-of-type {\n",
       "        vertical-align: middle;\n",
       "    }\n",
       "\n",
       "    .dataframe tbody tr th {\n",
       "        vertical-align: top;\n",
       "    }\n",
       "\n",
       "    .dataframe thead th {\n",
       "        text-align: right;\n",
       "    }\n",
       "</style>\n",
       "<table border=\"1\" class=\"dataframe\">\n",
       "  <thead>\n",
       "    <tr style=\"text-align: right;\">\n",
       "      <th></th>\n",
       "      <th>image_path</th>\n",
       "      <th>Test</th>\n",
       "    </tr>\n",
       "  </thead>\n",
       "  <tbody>\n",
       "    <tr>\n",
       "      <th>0</th>\n",
       "      <td>data_upload_v2/test/covid/9fdd3c3032296fd04d2c...</td>\n",
       "      <td>1</td>\n",
       "    </tr>\n",
       "    <tr>\n",
       "      <th>1</th>\n",
       "      <td>data_upload_v2/test/covid/16669_3_1.jpeg</td>\n",
       "      <td>1</td>\n",
       "    </tr>\n",
       "    <tr>\n",
       "      <th>2</th>\n",
       "      <td>data_upload_v2/test/covid/16663_1_1.jpg</td>\n",
       "      <td>1</td>\n",
       "    </tr>\n",
       "    <tr>\n",
       "      <th>3</th>\n",
       "      <td>data_upload_v2/test/covid/covid-19-pneumonia-2...</td>\n",
       "      <td>1</td>\n",
       "    </tr>\n",
       "    <tr>\n",
       "      <th>4</th>\n",
       "      <td>data_upload_v2/test/covid/radiol.2020201160.fi...</td>\n",
       "      <td>1</td>\n",
       "    </tr>\n",
       "    <tr>\n",
       "      <th>...</th>\n",
       "      <td>...</td>\n",
       "      <td>...</td>\n",
       "    </tr>\n",
       "    <tr>\n",
       "      <th>3759</th>\n",
       "      <td>data_upload_v2/train/non/Pneumonia-patient1158...</td>\n",
       "      <td>0</td>\n",
       "    </tr>\n",
       "    <tr>\n",
       "      <th>3760</th>\n",
       "      <td>data_upload_v2/train/non/No Finding-patient161...</td>\n",
       "      <td>0</td>\n",
       "    </tr>\n",
       "    <tr>\n",
       "      <th>3761</th>\n",
       "      <td>data_upload_v2/train/non/Enlarged Cardiomedias...</td>\n",
       "      <td>0</td>\n",
       "    </tr>\n",
       "    <tr>\n",
       "      <th>3762</th>\n",
       "      <td>data_upload_v2/train/non/Atelectasis-patient56...</td>\n",
       "      <td>0</td>\n",
       "    </tr>\n",
       "    <tr>\n",
       "      <th>3763</th>\n",
       "      <td>data_upload_v2/train/non/Lung Lesion-patient22...</td>\n",
       "      <td>0</td>\n",
       "    </tr>\n",
       "  </tbody>\n",
       "</table>\n",
       "<p>3764 rows × 2 columns</p>\n",
       "</div>"
      ],
      "text/plain": [
       "                                             image_path  Test\n",
       "0     data_upload_v2/test/covid/9fdd3c3032296fd04d2c...     1\n",
       "1              data_upload_v2/test/covid/16669_3_1.jpeg     1\n",
       "2               data_upload_v2/test/covid/16663_1_1.jpg     1\n",
       "3     data_upload_v2/test/covid/covid-19-pneumonia-2...     1\n",
       "4     data_upload_v2/test/covid/radiol.2020201160.fi...     1\n",
       "...                                                 ...   ...\n",
       "3759  data_upload_v2/train/non/Pneumonia-patient1158...     0\n",
       "3760  data_upload_v2/train/non/No Finding-patient161...     0\n",
       "3761  data_upload_v2/train/non/Enlarged Cardiomedias...     0\n",
       "3762  data_upload_v2/train/non/Atelectasis-patient56...     0\n",
       "3763  data_upload_v2/train/non/Lung Lesion-patient22...     0\n",
       "\n",
       "[3764 rows x 2 columns]"
      ]
     },
     "execution_count": 5,
     "metadata": {},
     "output_type": "execute_result"
    }
   ],
   "source": [
    "filenames"
   ]
  },
  {
   "cell_type": "code",
   "execution_count": null,
   "metadata": {},
   "outputs": [],
   "source": []
  }
 ],
 "metadata": {
  "kernelspec": {
   "display_name": "Python 3",
   "language": "python",
   "name": "python3"
  },
  "language_info": {
   "codemirror_mode": {
    "name": "ipython",
    "version": 3
   },
   "file_extension": ".py",
   "mimetype": "text/x-python",
   "name": "python",
   "nbconvert_exporter": "python",
   "pygments_lexer": "ipython3",
   "version": "3.7.6"
  }
 },
 "nbformat": 4,
 "nbformat_minor": 2
}
